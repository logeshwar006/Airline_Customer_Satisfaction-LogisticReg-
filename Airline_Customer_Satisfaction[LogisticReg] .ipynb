{
 "cells": [
  {
   "cell_type": "markdown",
   "id": "cb9d4a58",
   "metadata": {
    "papermill": {
     "duration": 0.018113,
     "end_time": "2024-05-23T20:49:44.865014",
     "exception": false,
     "start_time": "2024-05-23T20:49:44.846901",
     "status": "completed"
    },
    "tags": []
   },
   "source": [
    "# About Dataset"
   ]
  },
  {
   "cell_type": "markdown",
   "id": "c34da03e",
   "metadata": {
    "papermill": {
     "duration": 0.017274,
     "end_time": "2024-05-23T20:49:44.899293",
     "exception": false,
     "start_time": "2024-05-23T20:49:44.882019",
     "status": "completed"
    },
    "tags": []
   },
   "source": [
    "The dataset provides insights into customer satisfaction levels within an undisclosed airline company. While the specific airline name is withheld, the dataset is rich in information, containing 22 columns and 129,880 rows. It aims to predict whether future customers will be satisfied based on various parameters included in the dataset.\n",
    "\n",
    "The columns likely cover a range of factors that influence customer satisfaction, such as flight punctuality, service quality, and so. By analyzing this dataset, airlines can gain valuable insights into the factors that contribute to customer satisfaction and tailor their services accordingly to enhance the overall customer experience."
   ]
  },
  {
   "cell_type": "markdown",
   "id": "cbf727db",
   "metadata": {
    "papermill": {
     "duration": 0.018778,
     "end_time": "2024-05-23T20:49:44.934978",
     "exception": false,
     "start_time": "2024-05-23T20:49:44.916200",
     "status": "completed"
    },
    "tags": []
   },
   "source": [
    "- **Satisfaction:** Indicates the satisfaction level of the customer.\n",
    "- **Customer Type:** Type of customer: 'Loyal Customer' or 'Disloyal Customer’.\n",
    "- **Age:** Age of the customer.\n",
    "- **Type of Travel:** Purpose of the travel: 'Business travel' or 'Personal Travel’.\n",
    "- **Class:**\tClass of travel: 'Business', 'Eco', or 'Eco Plus’.\n",
    "- **Flight Distance:** The distance of the flight in kilometres\n",
    "- **Seat comfort:** Rating of seat comfort provided during the flight (1 to 5).\n",
    "- **Departure/Arrival time convenient** Rating of the convenience of departure/arrival time (1 to 5).\n",
    "- **Food and drink:** Rating of food and drink quality provided during the flight (1 to 5).\n",
    "- **Gate location:**\tRating of gate location convenience (1 to 5).\n",
    "- **Inflight wifi service:**\tRating of inflight wifi service satisfaction (1 to 5).\n",
    "- **Inflight entertainment:** Rating of inflight entertainment satisfaction (1 to 5).\n",
    "- **Online support:** Rating of online customer support satisfaction (1 to 5).\n",
    "- **Ease of Online booking:** Rating of ease of online booking satisfaction (1 to 5).\n",
    "- **On-board service:** Rating of on-board service satisfaction (1 to 5).\n",
    "- **Leg room service:** Rating of leg room service satisfaction (1 to 5).\n",
    "- **Baggage handling:** Rating of baggage handling satisfaction (1 to 5).\n",
    "- **Checkin service:** Rating of check-in service satisfaction (1 to 5).\n",
    "- **Cleanliness:** Rating of cleanliness satisfaction (1 to 5).\n",
    "- **Online boarding:** Rating of online boarding satisfaction (1 to 5).\n",
    "- **Departure Delay in Minutes:** Total departure delay in minutes.\n",
    "- **Arrival Delay in Minutes:** Total arrival delay in minutes."
   ]
  },
  {
   "cell_type": "markdown",
   "id": "b0790f28",
   "metadata": {
    "papermill": {
     "duration": 0.018492,
     "end_time": "2024-05-23T20:49:44.971228",
     "exception": false,
     "start_time": "2024-05-23T20:49:44.952736",
     "status": "completed"
    },
    "tags": []
   },
   "source": [
    "# Importing Libraries"
   ]
  },
  {
   "cell_type": "code",
   "execution_count": 1,
   "id": "7e03d896",
   "metadata": {
    "execution": {
     "iopub.execute_input": "2024-05-23T20:49:45.008264Z",
     "iopub.status.busy": "2024-05-23T20:49:45.007846Z",
     "iopub.status.idle": "2024-05-23T20:49:49.124636Z",
     "shell.execute_reply": "2024-05-23T20:49:49.123330Z"
    },
    "papermill": {
     "duration": 4.138071,
     "end_time": "2024-05-23T20:49:49.127772",
     "exception": false,
     "start_time": "2024-05-23T20:49:44.989701",
     "status": "completed"
    },
    "tags": []
   },
   "outputs": [],
   "source": [
    "import pandas as pd\n",
    "import seaborn as sns\n",
    "import matplotlib.pyplot as plt\n",
    "import warnings\n",
    "from sklearn.model_selection import train_test_split, cross_val_score, KFold\n",
    "from sklearn.preprocessing import StandardScaler\n",
    "from sklearn.linear_model import LogisticRegression\n",
    "from sklearn.ensemble import RandomForestClassifier\n",
    "from sklearn.tree import DecisionTreeClassifier\n",
    "from sklearn.neighbors import KNeighborsClassifier\n",
    "from sklearn.svm import SVC\n",
    "import xgboost as xgb\n",
    "from sklearn.model_selection import GridSearchCV,RandomizedSearchCV\n",
    "from sklearn.metrics import accuracy_score,ConfusionMatrixDisplay, classification_report\n",
    "warnings.filterwarnings('ignore')\n",
    "import numpy as np"
   ]
  },
  {
   "cell_type": "markdown",
   "id": "9b10ec77",
   "metadata": {
    "papermill": {
     "duration": 0.016908,
     "end_time": "2024-05-23T20:49:49.162477",
     "exception": false,
     "start_time": "2024-05-23T20:49:49.145569",
     "status": "completed"
    },
    "tags": []
   },
   "source": [
    "# Functions for plot customizations "
   ]
  },
  {
   "cell_type": "code",
   "execution_count": 2,
   "id": "305b6689",
   "metadata": {
    "execution": {
     "iopub.execute_input": "2024-05-23T20:49:49.200322Z",
     "iopub.status.busy": "2024-05-23T20:49:49.199498Z",
     "iopub.status.idle": "2024-05-23T20:49:49.209284Z",
     "shell.execute_reply": "2024-05-23T20:49:49.207608Z"
    },
    "papermill": {
     "duration": 0.033712,
     "end_time": "2024-05-23T20:49:49.213681",
     "exception": false,
     "start_time": "2024-05-23T20:49:49.179969",
     "status": "completed"
    },
    "tags": []
   },
   "outputs": [],
   "source": [
    "def set_size_style(width, height, style=None):\n",
    "    plt.figure(figsize=(width, height))\n",
    "    if style != None:\n",
    "        sns.set_style(style)\n",
    "\n",
    "def customize_plot(plot, title:str, xlabel:str,  ylabel:str, title_font:int, label_font:int):\n",
    "    plot.set_title(title, fontsize = title_font, weight='bold')\n",
    "    plot.set_xlabel(xlabel, fontsize = label_font, weight='bold')\n",
    "    plot.set_ylabel(ylabel, fontsize = label_font, weight='bold')"
   ]
  },
  {
   "cell_type": "markdown",
   "id": "7e42fc53",
   "metadata": {
    "papermill": {
     "duration": 0.017313,
     "end_time": "2024-05-23T20:49:49.248269",
     "exception": false,
     "start_time": "2024-05-23T20:49:49.230956",
     "status": "completed"
    },
    "tags": []
   },
   "source": [
    "# Data Exploration & Cleaning"
   ]
  },
  {
   "cell_type": "code",
   "execution_count": 3,
   "id": "cea30dc2",
   "metadata": {
    "execution": {
     "iopub.execute_input": "2024-05-23T20:49:49.284437Z",
     "iopub.status.busy": "2024-05-23T20:49:49.283961Z",
     "iopub.status.idle": "2024-05-23T20:49:49.904068Z",
     "shell.execute_reply": "2024-05-23T20:49:49.902609Z"
    },
    "papermill": {
     "duration": 0.641702,
     "end_time": "2024-05-23T20:49:49.907195",
     "exception": false,
     "start_time": "2024-05-23T20:49:49.265493",
     "status": "completed"
    },
    "tags": []
   },
   "outputs": [
    {
     "data": {
      "text/html": [
       "<div>\n",
       "<style scoped>\n",
       "    .dataframe tbody tr th:only-of-type {\n",
       "        vertical-align: middle;\n",
       "    }\n",
       "\n",
       "    .dataframe tbody tr th {\n",
       "        vertical-align: top;\n",
       "    }\n",
       "\n",
       "    .dataframe thead th {\n",
       "        text-align: right;\n",
       "    }\n",
       "</style>\n",
       "<table border=\"1\" class=\"dataframe\">\n",
       "  <thead>\n",
       "    <tr style=\"text-align: right;\">\n",
       "      <th></th>\n",
       "      <th>satisfaction</th>\n",
       "      <th>Customer Type</th>\n",
       "      <th>Age</th>\n",
       "      <th>Type of Travel</th>\n",
       "      <th>Class</th>\n",
       "      <th>Flight Distance</th>\n",
       "      <th>Seat comfort</th>\n",
       "      <th>Departure/Arrival time convenient</th>\n",
       "      <th>Food and drink</th>\n",
       "      <th>Gate location</th>\n",
       "      <th>...</th>\n",
       "      <th>Online support</th>\n",
       "      <th>Ease of Online booking</th>\n",
       "      <th>On-board service</th>\n",
       "      <th>Leg room service</th>\n",
       "      <th>Baggage handling</th>\n",
       "      <th>Checkin service</th>\n",
       "      <th>Cleanliness</th>\n",
       "      <th>Online boarding</th>\n",
       "      <th>Departure Delay in Minutes</th>\n",
       "      <th>Arrival Delay in Minutes</th>\n",
       "    </tr>\n",
       "  </thead>\n",
       "  <tbody>\n",
       "    <tr>\n",
       "      <th>0</th>\n",
       "      <td>satisfied</td>\n",
       "      <td>Loyal Customer</td>\n",
       "      <td>65</td>\n",
       "      <td>Personal Travel</td>\n",
       "      <td>Eco</td>\n",
       "      <td>265</td>\n",
       "      <td>0</td>\n",
       "      <td>0</td>\n",
       "      <td>0</td>\n",
       "      <td>2</td>\n",
       "      <td>...</td>\n",
       "      <td>2</td>\n",
       "      <td>3</td>\n",
       "      <td>3</td>\n",
       "      <td>0</td>\n",
       "      <td>3</td>\n",
       "      <td>5</td>\n",
       "      <td>3</td>\n",
       "      <td>2</td>\n",
       "      <td>0</td>\n",
       "      <td>0.0</td>\n",
       "    </tr>\n",
       "    <tr>\n",
       "      <th>1</th>\n",
       "      <td>satisfied</td>\n",
       "      <td>Loyal Customer</td>\n",
       "      <td>47</td>\n",
       "      <td>Personal Travel</td>\n",
       "      <td>Business</td>\n",
       "      <td>2464</td>\n",
       "      <td>0</td>\n",
       "      <td>0</td>\n",
       "      <td>0</td>\n",
       "      <td>3</td>\n",
       "      <td>...</td>\n",
       "      <td>2</td>\n",
       "      <td>3</td>\n",
       "      <td>4</td>\n",
       "      <td>4</td>\n",
       "      <td>4</td>\n",
       "      <td>2</td>\n",
       "      <td>3</td>\n",
       "      <td>2</td>\n",
       "      <td>310</td>\n",
       "      <td>305.0</td>\n",
       "    </tr>\n",
       "    <tr>\n",
       "      <th>2</th>\n",
       "      <td>satisfied</td>\n",
       "      <td>Loyal Customer</td>\n",
       "      <td>15</td>\n",
       "      <td>Personal Travel</td>\n",
       "      <td>Eco</td>\n",
       "      <td>2138</td>\n",
       "      <td>0</td>\n",
       "      <td>0</td>\n",
       "      <td>0</td>\n",
       "      <td>3</td>\n",
       "      <td>...</td>\n",
       "      <td>2</td>\n",
       "      <td>2</td>\n",
       "      <td>3</td>\n",
       "      <td>3</td>\n",
       "      <td>4</td>\n",
       "      <td>4</td>\n",
       "      <td>4</td>\n",
       "      <td>2</td>\n",
       "      <td>0</td>\n",
       "      <td>0.0</td>\n",
       "    </tr>\n",
       "    <tr>\n",
       "      <th>3</th>\n",
       "      <td>satisfied</td>\n",
       "      <td>Loyal Customer</td>\n",
       "      <td>60</td>\n",
       "      <td>Personal Travel</td>\n",
       "      <td>Eco</td>\n",
       "      <td>623</td>\n",
       "      <td>0</td>\n",
       "      <td>0</td>\n",
       "      <td>0</td>\n",
       "      <td>3</td>\n",
       "      <td>...</td>\n",
       "      <td>3</td>\n",
       "      <td>1</td>\n",
       "      <td>1</td>\n",
       "      <td>0</td>\n",
       "      <td>1</td>\n",
       "      <td>4</td>\n",
       "      <td>1</td>\n",
       "      <td>3</td>\n",
       "      <td>0</td>\n",
       "      <td>0.0</td>\n",
       "    </tr>\n",
       "    <tr>\n",
       "      <th>4</th>\n",
       "      <td>satisfied</td>\n",
       "      <td>Loyal Customer</td>\n",
       "      <td>70</td>\n",
       "      <td>Personal Travel</td>\n",
       "      <td>Eco</td>\n",
       "      <td>354</td>\n",
       "      <td>0</td>\n",
       "      <td>0</td>\n",
       "      <td>0</td>\n",
       "      <td>3</td>\n",
       "      <td>...</td>\n",
       "      <td>4</td>\n",
       "      <td>2</td>\n",
       "      <td>2</td>\n",
       "      <td>0</td>\n",
       "      <td>2</td>\n",
       "      <td>4</td>\n",
       "      <td>2</td>\n",
       "      <td>5</td>\n",
       "      <td>0</td>\n",
       "      <td>0.0</td>\n",
       "    </tr>\n",
       "  </tbody>\n",
       "</table>\n",
       "<p>5 rows × 22 columns</p>\n",
       "</div>"
      ],
      "text/plain": [
       "  satisfaction   Customer Type  Age   Type of Travel     Class  \\\n",
       "0    satisfied  Loyal Customer   65  Personal Travel       Eco   \n",
       "1    satisfied  Loyal Customer   47  Personal Travel  Business   \n",
       "2    satisfied  Loyal Customer   15  Personal Travel       Eco   \n",
       "3    satisfied  Loyal Customer   60  Personal Travel       Eco   \n",
       "4    satisfied  Loyal Customer   70  Personal Travel       Eco   \n",
       "\n",
       "   Flight Distance  Seat comfort  Departure/Arrival time convenient  \\\n",
       "0              265             0                                  0   \n",
       "1             2464             0                                  0   \n",
       "2             2138             0                                  0   \n",
       "3              623             0                                  0   \n",
       "4              354             0                                  0   \n",
       "\n",
       "   Food and drink  Gate location  ...  Online support  Ease of Online booking  \\\n",
       "0               0              2  ...               2                       3   \n",
       "1               0              3  ...               2                       3   \n",
       "2               0              3  ...               2                       2   \n",
       "3               0              3  ...               3                       1   \n",
       "4               0              3  ...               4                       2   \n",
       "\n",
       "   On-board service  Leg room service  Baggage handling  Checkin service  \\\n",
       "0                 3                 0                 3                5   \n",
       "1                 4                 4                 4                2   \n",
       "2                 3                 3                 4                4   \n",
       "3                 1                 0                 1                4   \n",
       "4                 2                 0                 2                4   \n",
       "\n",
       "   Cleanliness  Online boarding  Departure Delay in Minutes  \\\n",
       "0            3                2                           0   \n",
       "1            3                2                         310   \n",
       "2            4                2                           0   \n",
       "3            1                3                           0   \n",
       "4            2                5                           0   \n",
       "\n",
       "   Arrival Delay in Minutes  \n",
       "0                       0.0  \n",
       "1                     305.0  \n",
       "2                       0.0  \n",
       "3                       0.0  \n",
       "4                       0.0  \n",
       "\n",
       "[5 rows x 22 columns]"
      ]
     },
     "execution_count": 3,
     "metadata": {},
     "output_type": "execute_result"
    }
   ],
   "source": [
    "customer_df = pd.read_csv('/kaggle/input/airline-customer-satisfaction/Airline_customer_satisfaction.csv')\n",
    "customer_df.head()"
   ]
  },
  {
   "cell_type": "code",
   "execution_count": 4,
   "id": "7d7dc641",
   "metadata": {
    "execution": {
     "iopub.execute_input": "2024-05-23T20:49:49.950608Z",
     "iopub.status.busy": "2024-05-23T20:49:49.950173Z",
     "iopub.status.idle": "2024-05-23T20:49:49.957858Z",
     "shell.execute_reply": "2024-05-23T20:49:49.956636Z"
    },
    "papermill": {
     "duration": 0.030778,
     "end_time": "2024-05-23T20:49:49.960474",
     "exception": false,
     "start_time": "2024-05-23T20:49:49.929696",
     "status": "completed"
    },
    "tags": []
   },
   "outputs": [
    {
     "data": {
      "text/plain": [
       "(129880, 22)"
      ]
     },
     "execution_count": 4,
     "metadata": {},
     "output_type": "execute_result"
    }
   ],
   "source": [
    "customer_df.shape"
   ]
  },
  {
   "cell_type": "markdown",
   "id": "abed8427",
   "metadata": {
    "papermill": {
     "duration": 0.018644,
     "end_time": "2024-05-23T20:49:49.997852",
     "exception": false,
     "start_time": "2024-05-23T20:49:49.979208",
     "status": "completed"
    },
    "tags": []
   },
   "source": [
    "- There are 129880 row and 22 columns in the dataset"
   ]
  },
  {
   "cell_type": "code",
   "execution_count": 5,
   "id": "28bf335b",
   "metadata": {
    "execution": {
     "iopub.execute_input": "2024-05-23T20:49:50.036352Z",
     "iopub.status.busy": "2024-05-23T20:49:50.035968Z",
     "iopub.status.idle": "2024-05-23T20:49:50.135977Z",
     "shell.execute_reply": "2024-05-23T20:49:50.134648Z"
    },
    "papermill": {
     "duration": 0.123421,
     "end_time": "2024-05-23T20:49:50.139754",
     "exception": false,
     "start_time": "2024-05-23T20:49:50.016333",
     "status": "completed"
    },
    "tags": []
   },
   "outputs": [
    {
     "name": "stdout",
     "output_type": "stream",
     "text": [
      "<class 'pandas.core.frame.DataFrame'>\n",
      "RangeIndex: 129880 entries, 0 to 129879\n",
      "Data columns (total 22 columns):\n",
      " #   Column                             Non-Null Count   Dtype  \n",
      "---  ------                             --------------   -----  \n",
      " 0   satisfaction                       129880 non-null  object \n",
      " 1   Customer Type                      129880 non-null  object \n",
      " 2   Age                                129880 non-null  int64  \n",
      " 3   Type of Travel                     129880 non-null  object \n",
      " 4   Class                              129880 non-null  object \n",
      " 5   Flight Distance                    129880 non-null  int64  \n",
      " 6   Seat comfort                       129880 non-null  int64  \n",
      " 7   Departure/Arrival time convenient  129880 non-null  int64  \n",
      " 8   Food and drink                     129880 non-null  int64  \n",
      " 9   Gate location                      129880 non-null  int64  \n",
      " 10  Inflight wifi service              129880 non-null  int64  \n",
      " 11  Inflight entertainment             129880 non-null  int64  \n",
      " 12  Online support                     129880 non-null  int64  \n",
      " 13  Ease of Online booking             129880 non-null  int64  \n",
      " 14  On-board service                   129880 non-null  int64  \n",
      " 15  Leg room service                   129880 non-null  int64  \n",
      " 16  Baggage handling                   129880 non-null  int64  \n",
      " 17  Checkin service                    129880 non-null  int64  \n",
      " 18  Cleanliness                        129880 non-null  int64  \n",
      " 19  Online boarding                    129880 non-null  int64  \n",
      " 20  Departure Delay in Minutes         129880 non-null  int64  \n",
      " 21  Arrival Delay in Minutes           129487 non-null  float64\n",
      "dtypes: float64(1), int64(17), object(4)\n",
      "memory usage: 21.8+ MB\n"
     ]
    }
   ],
   "source": [
    "customer_df.info()"
   ]
  },
  {
   "cell_type": "markdown",
   "id": "863cfb0b",
   "metadata": {
    "papermill": {
     "duration": 0.018149,
     "end_time": "2024-05-23T20:49:50.179973",
     "exception": false,
     "start_time": "2024-05-23T20:49:50.161824",
     "status": "completed"
    },
    "tags": []
   },
   "source": [
    "- The majority of the columns in the dataset consist of numeric values, primarily representing ratings."
   ]
  },
  {
   "cell_type": "code",
   "execution_count": 6,
   "id": "2928bbf8",
   "metadata": {
    "execution": {
     "iopub.execute_input": "2024-05-23T20:49:50.222194Z",
     "iopub.status.busy": "2024-05-23T20:49:50.221773Z",
     "iopub.status.idle": "2024-05-23T20:49:50.375798Z",
     "shell.execute_reply": "2024-05-23T20:49:50.374311Z"
    },
    "papermill": {
     "duration": 0.180242,
     "end_time": "2024-05-23T20:49:50.379424",
     "exception": false,
     "start_time": "2024-05-23T20:49:50.199182",
     "status": "completed"
    },
    "tags": []
   },
   "outputs": [
    {
     "data": {
      "text/html": [
       "<div>\n",
       "<style scoped>\n",
       "    .dataframe tbody tr th:only-of-type {\n",
       "        vertical-align: middle;\n",
       "    }\n",
       "\n",
       "    .dataframe tbody tr th {\n",
       "        vertical-align: top;\n",
       "    }\n",
       "\n",
       "    .dataframe thead th {\n",
       "        text-align: right;\n",
       "    }\n",
       "</style>\n",
       "<table border=\"1\" class=\"dataframe\">\n",
       "  <thead>\n",
       "    <tr style=\"text-align: right;\">\n",
       "      <th></th>\n",
       "      <th>Age</th>\n",
       "      <th>Flight Distance</th>\n",
       "      <th>Seat comfort</th>\n",
       "      <th>Departure/Arrival time convenient</th>\n",
       "      <th>Food and drink</th>\n",
       "      <th>Gate location</th>\n",
       "      <th>Inflight wifi service</th>\n",
       "      <th>Inflight entertainment</th>\n",
       "      <th>Online support</th>\n",
       "      <th>Ease of Online booking</th>\n",
       "      <th>On-board service</th>\n",
       "      <th>Leg room service</th>\n",
       "      <th>Baggage handling</th>\n",
       "      <th>Checkin service</th>\n",
       "      <th>Cleanliness</th>\n",
       "      <th>Online boarding</th>\n",
       "      <th>Departure Delay in Minutes</th>\n",
       "      <th>Arrival Delay in Minutes</th>\n",
       "    </tr>\n",
       "  </thead>\n",
       "  <tbody>\n",
       "    <tr>\n",
       "      <th>count</th>\n",
       "      <td>129880.000000</td>\n",
       "      <td>129880.000000</td>\n",
       "      <td>129880.000000</td>\n",
       "      <td>129880.000000</td>\n",
       "      <td>129880.000000</td>\n",
       "      <td>129880.000000</td>\n",
       "      <td>129880.000000</td>\n",
       "      <td>129880.000000</td>\n",
       "      <td>129880.000000</td>\n",
       "      <td>129880.000000</td>\n",
       "      <td>129880.000000</td>\n",
       "      <td>129880.000000</td>\n",
       "      <td>129880.000000</td>\n",
       "      <td>129880.000000</td>\n",
       "      <td>129880.000000</td>\n",
       "      <td>129880.000000</td>\n",
       "      <td>129880.000000</td>\n",
       "      <td>129487.000000</td>\n",
       "    </tr>\n",
       "    <tr>\n",
       "      <th>mean</th>\n",
       "      <td>39.427957</td>\n",
       "      <td>1981.409055</td>\n",
       "      <td>2.838597</td>\n",
       "      <td>2.990645</td>\n",
       "      <td>2.851994</td>\n",
       "      <td>2.990422</td>\n",
       "      <td>3.249130</td>\n",
       "      <td>3.383477</td>\n",
       "      <td>3.519703</td>\n",
       "      <td>3.472105</td>\n",
       "      <td>3.465075</td>\n",
       "      <td>3.485902</td>\n",
       "      <td>3.695673</td>\n",
       "      <td>3.340807</td>\n",
       "      <td>3.705759</td>\n",
       "      <td>3.352587</td>\n",
       "      <td>14.713713</td>\n",
       "      <td>15.091129</td>\n",
       "    </tr>\n",
       "    <tr>\n",
       "      <th>std</th>\n",
       "      <td>15.119360</td>\n",
       "      <td>1027.115606</td>\n",
       "      <td>1.392983</td>\n",
       "      <td>1.527224</td>\n",
       "      <td>1.443729</td>\n",
       "      <td>1.305970</td>\n",
       "      <td>1.318818</td>\n",
       "      <td>1.346059</td>\n",
       "      <td>1.306511</td>\n",
       "      <td>1.305560</td>\n",
       "      <td>1.270836</td>\n",
       "      <td>1.292226</td>\n",
       "      <td>1.156483</td>\n",
       "      <td>1.260582</td>\n",
       "      <td>1.151774</td>\n",
       "      <td>1.298715</td>\n",
       "      <td>38.071126</td>\n",
       "      <td>38.465650</td>\n",
       "    </tr>\n",
       "    <tr>\n",
       "      <th>min</th>\n",
       "      <td>7.000000</td>\n",
       "      <td>50.000000</td>\n",
       "      <td>0.000000</td>\n",
       "      <td>0.000000</td>\n",
       "      <td>0.000000</td>\n",
       "      <td>0.000000</td>\n",
       "      <td>0.000000</td>\n",
       "      <td>0.000000</td>\n",
       "      <td>0.000000</td>\n",
       "      <td>0.000000</td>\n",
       "      <td>0.000000</td>\n",
       "      <td>0.000000</td>\n",
       "      <td>1.000000</td>\n",
       "      <td>0.000000</td>\n",
       "      <td>0.000000</td>\n",
       "      <td>0.000000</td>\n",
       "      <td>0.000000</td>\n",
       "      <td>0.000000</td>\n",
       "    </tr>\n",
       "    <tr>\n",
       "      <th>25%</th>\n",
       "      <td>27.000000</td>\n",
       "      <td>1359.000000</td>\n",
       "      <td>2.000000</td>\n",
       "      <td>2.000000</td>\n",
       "      <td>2.000000</td>\n",
       "      <td>2.000000</td>\n",
       "      <td>2.000000</td>\n",
       "      <td>2.000000</td>\n",
       "      <td>3.000000</td>\n",
       "      <td>2.000000</td>\n",
       "      <td>3.000000</td>\n",
       "      <td>2.000000</td>\n",
       "      <td>3.000000</td>\n",
       "      <td>3.000000</td>\n",
       "      <td>3.000000</td>\n",
       "      <td>2.000000</td>\n",
       "      <td>0.000000</td>\n",
       "      <td>0.000000</td>\n",
       "    </tr>\n",
       "    <tr>\n",
       "      <th>50%</th>\n",
       "      <td>40.000000</td>\n",
       "      <td>1925.000000</td>\n",
       "      <td>3.000000</td>\n",
       "      <td>3.000000</td>\n",
       "      <td>3.000000</td>\n",
       "      <td>3.000000</td>\n",
       "      <td>3.000000</td>\n",
       "      <td>4.000000</td>\n",
       "      <td>4.000000</td>\n",
       "      <td>4.000000</td>\n",
       "      <td>4.000000</td>\n",
       "      <td>4.000000</td>\n",
       "      <td>4.000000</td>\n",
       "      <td>3.000000</td>\n",
       "      <td>4.000000</td>\n",
       "      <td>4.000000</td>\n",
       "      <td>0.000000</td>\n",
       "      <td>0.000000</td>\n",
       "    </tr>\n",
       "    <tr>\n",
       "      <th>75%</th>\n",
       "      <td>51.000000</td>\n",
       "      <td>2544.000000</td>\n",
       "      <td>4.000000</td>\n",
       "      <td>4.000000</td>\n",
       "      <td>4.000000</td>\n",
       "      <td>4.000000</td>\n",
       "      <td>4.000000</td>\n",
       "      <td>4.000000</td>\n",
       "      <td>5.000000</td>\n",
       "      <td>5.000000</td>\n",
       "      <td>4.000000</td>\n",
       "      <td>5.000000</td>\n",
       "      <td>5.000000</td>\n",
       "      <td>4.000000</td>\n",
       "      <td>5.000000</td>\n",
       "      <td>4.000000</td>\n",
       "      <td>12.000000</td>\n",
       "      <td>13.000000</td>\n",
       "    </tr>\n",
       "    <tr>\n",
       "      <th>max</th>\n",
       "      <td>85.000000</td>\n",
       "      <td>6951.000000</td>\n",
       "      <td>5.000000</td>\n",
       "      <td>5.000000</td>\n",
       "      <td>5.000000</td>\n",
       "      <td>5.000000</td>\n",
       "      <td>5.000000</td>\n",
       "      <td>5.000000</td>\n",
       "      <td>5.000000</td>\n",
       "      <td>5.000000</td>\n",
       "      <td>5.000000</td>\n",
       "      <td>5.000000</td>\n",
       "      <td>5.000000</td>\n",
       "      <td>5.000000</td>\n",
       "      <td>5.000000</td>\n",
       "      <td>5.000000</td>\n",
       "      <td>1592.000000</td>\n",
       "      <td>1584.000000</td>\n",
       "    </tr>\n",
       "  </tbody>\n",
       "</table>\n",
       "</div>"
      ],
      "text/plain": [
       "                 Age  Flight Distance   Seat comfort  \\\n",
       "count  129880.000000    129880.000000  129880.000000   \n",
       "mean       39.427957      1981.409055       2.838597   \n",
       "std        15.119360      1027.115606       1.392983   \n",
       "min         7.000000        50.000000       0.000000   \n",
       "25%        27.000000      1359.000000       2.000000   \n",
       "50%        40.000000      1925.000000       3.000000   \n",
       "75%        51.000000      2544.000000       4.000000   \n",
       "max        85.000000      6951.000000       5.000000   \n",
       "\n",
       "       Departure/Arrival time convenient  Food and drink  Gate location  \\\n",
       "count                      129880.000000   129880.000000  129880.000000   \n",
       "mean                            2.990645        2.851994       2.990422   \n",
       "std                             1.527224        1.443729       1.305970   \n",
       "min                             0.000000        0.000000       0.000000   \n",
       "25%                             2.000000        2.000000       2.000000   \n",
       "50%                             3.000000        3.000000       3.000000   \n",
       "75%                             4.000000        4.000000       4.000000   \n",
       "max                             5.000000        5.000000       5.000000   \n",
       "\n",
       "       Inflight wifi service  Inflight entertainment  Online support  \\\n",
       "count          129880.000000           129880.000000   129880.000000   \n",
       "mean                3.249130                3.383477        3.519703   \n",
       "std                 1.318818                1.346059        1.306511   \n",
       "min                 0.000000                0.000000        0.000000   \n",
       "25%                 2.000000                2.000000        3.000000   \n",
       "50%                 3.000000                4.000000        4.000000   \n",
       "75%                 4.000000                4.000000        5.000000   \n",
       "max                 5.000000                5.000000        5.000000   \n",
       "\n",
       "       Ease of Online booking  On-board service  Leg room service  \\\n",
       "count           129880.000000     129880.000000     129880.000000   \n",
       "mean                 3.472105          3.465075          3.485902   \n",
       "std                  1.305560          1.270836          1.292226   \n",
       "min                  0.000000          0.000000          0.000000   \n",
       "25%                  2.000000          3.000000          2.000000   \n",
       "50%                  4.000000          4.000000          4.000000   \n",
       "75%                  5.000000          4.000000          5.000000   \n",
       "max                  5.000000          5.000000          5.000000   \n",
       "\n",
       "       Baggage handling  Checkin service    Cleanliness  Online boarding  \\\n",
       "count     129880.000000    129880.000000  129880.000000    129880.000000   \n",
       "mean           3.695673         3.340807       3.705759         3.352587   \n",
       "std            1.156483         1.260582       1.151774         1.298715   \n",
       "min            1.000000         0.000000       0.000000         0.000000   \n",
       "25%            3.000000         3.000000       3.000000         2.000000   \n",
       "50%            4.000000         3.000000       4.000000         4.000000   \n",
       "75%            5.000000         4.000000       5.000000         4.000000   \n",
       "max            5.000000         5.000000       5.000000         5.000000   \n",
       "\n",
       "       Departure Delay in Minutes  Arrival Delay in Minutes  \n",
       "count               129880.000000             129487.000000  \n",
       "mean                    14.713713                 15.091129  \n",
       "std                     38.071126                 38.465650  \n",
       "min                      0.000000                  0.000000  \n",
       "25%                      0.000000                  0.000000  \n",
       "50%                      0.000000                  0.000000  \n",
       "75%                     12.000000                 13.000000  \n",
       "max                   1592.000000               1584.000000  "
      ]
     },
     "execution_count": 6,
     "metadata": {},
     "output_type": "execute_result"
    }
   ],
   "source": [
    "customer_df.describe()"
   ]
  },
  {
   "cell_type": "code",
   "execution_count": 7,
   "id": "ebdacf37",
   "metadata": {
    "execution": {
     "iopub.execute_input": "2024-05-23T20:49:50.420070Z",
     "iopub.status.busy": "2024-05-23T20:49:50.419600Z",
     "iopub.status.idle": "2024-05-23T20:49:50.603242Z",
     "shell.execute_reply": "2024-05-23T20:49:50.601443Z"
    },
    "papermill": {
     "duration": 0.207778,
     "end_time": "2024-05-23T20:49:50.606494",
     "exception": false,
     "start_time": "2024-05-23T20:49:50.398716",
     "status": "completed"
    },
    "tags": []
   },
   "outputs": [
    {
     "data": {
      "text/html": [
       "<div>\n",
       "<style scoped>\n",
       "    .dataframe tbody tr th:only-of-type {\n",
       "        vertical-align: middle;\n",
       "    }\n",
       "\n",
       "    .dataframe tbody tr th {\n",
       "        vertical-align: top;\n",
       "    }\n",
       "\n",
       "    .dataframe thead th {\n",
       "        text-align: right;\n",
       "    }\n",
       "</style>\n",
       "<table border=\"1\" class=\"dataframe\">\n",
       "  <thead>\n",
       "    <tr style=\"text-align: right;\">\n",
       "      <th></th>\n",
       "      <th>satisfaction</th>\n",
       "      <th>Customer Type</th>\n",
       "      <th>Type of Travel</th>\n",
       "      <th>Class</th>\n",
       "    </tr>\n",
       "  </thead>\n",
       "  <tbody>\n",
       "    <tr>\n",
       "      <th>count</th>\n",
       "      <td>129880</td>\n",
       "      <td>129880</td>\n",
       "      <td>129880</td>\n",
       "      <td>129880</td>\n",
       "    </tr>\n",
       "    <tr>\n",
       "      <th>unique</th>\n",
       "      <td>2</td>\n",
       "      <td>2</td>\n",
       "      <td>2</td>\n",
       "      <td>3</td>\n",
       "    </tr>\n",
       "    <tr>\n",
       "      <th>top</th>\n",
       "      <td>satisfied</td>\n",
       "      <td>Loyal Customer</td>\n",
       "      <td>Business travel</td>\n",
       "      <td>Business</td>\n",
       "    </tr>\n",
       "    <tr>\n",
       "      <th>freq</th>\n",
       "      <td>71087</td>\n",
       "      <td>106100</td>\n",
       "      <td>89693</td>\n",
       "      <td>62160</td>\n",
       "    </tr>\n",
       "  </tbody>\n",
       "</table>\n",
       "</div>"
      ],
      "text/plain": [
       "       satisfaction   Customer Type   Type of Travel     Class\n",
       "count        129880          129880           129880    129880\n",
       "unique            2               2                2         3\n",
       "top       satisfied  Loyal Customer  Business travel  Business\n",
       "freq          71087          106100            89693     62160"
      ]
     },
     "execution_count": 7,
     "metadata": {},
     "output_type": "execute_result"
    }
   ],
   "source": [
    "customer_df.describe(include = 'object')"
   ]
  },
  {
   "cell_type": "code",
   "execution_count": 8,
   "id": "70417a43",
   "metadata": {
    "execution": {
     "iopub.execute_input": "2024-05-23T20:49:50.651286Z",
     "iopub.status.busy": "2024-05-23T20:49:50.650838Z",
     "iopub.status.idle": "2024-05-23T20:49:50.866585Z",
     "shell.execute_reply": "2024-05-23T20:49:50.864929Z"
    },
    "papermill": {
     "duration": 0.242042,
     "end_time": "2024-05-23T20:49:50.869662",
     "exception": false,
     "start_time": "2024-05-23T20:49:50.627620",
     "status": "completed"
    },
    "tags": []
   },
   "outputs": [
    {
     "name": "stdout",
     "output_type": "stream",
     "text": [
      "Column Name:  satisfaction\n",
      "['satisfied' 'dissatisfied']\n",
      "--------------------------------------------------\n",
      "Column Name:  Customer Type\n",
      "['Loyal Customer' 'disloyal Customer']\n",
      "--------------------------------------------------\n",
      "Column Name:  Type of Travel\n",
      "['Personal Travel' 'Business travel']\n",
      "--------------------------------------------------\n",
      "Column Name:  Class\n",
      "['Eco' 'Business' 'Eco Plus']\n",
      "--------------------------------------------------\n"
     ]
    }
   ],
   "source": [
    "for col in customer_df.describe(include='object').columns:\n",
    "    print('Column Name: ',col)\n",
    "    print(customer_df[col].unique())\n",
    "    print('-'*50)"
   ]
  },
  {
   "cell_type": "markdown",
   "id": "738a0a07",
   "metadata": {
    "papermill": {
     "duration": 0.021069,
     "end_time": "2024-05-23T20:49:50.911131",
     "exception": false,
     "start_time": "2024-05-23T20:49:50.890062",
     "status": "completed"
    },
    "tags": []
   },
   "source": [
    "## Handling Null Values"
   ]
  },
  {
   "cell_type": "code",
   "execution_count": 9,
   "id": "851faae2",
   "metadata": {
    "execution": {
     "iopub.execute_input": "2024-05-23T20:49:50.957882Z",
     "iopub.status.busy": "2024-05-23T20:49:50.957236Z",
     "iopub.status.idle": "2024-05-23T20:49:51.028268Z",
     "shell.execute_reply": "2024-05-23T20:49:51.026709Z"
    },
    "papermill": {
     "duration": 0.097076,
     "end_time": "2024-05-23T20:49:51.031445",
     "exception": false,
     "start_time": "2024-05-23T20:49:50.934369",
     "status": "completed"
    },
    "tags": []
   },
   "outputs": [
    {
     "data": {
      "text/plain": [
       "satisfaction                           0\n",
       "Customer Type                          0\n",
       "Age                                    0\n",
       "Type of Travel                         0\n",
       "Class                                  0\n",
       "Flight Distance                        0\n",
       "Seat comfort                           0\n",
       "Departure/Arrival time convenient      0\n",
       "Food and drink                         0\n",
       "Gate location                          0\n",
       "Inflight wifi service                  0\n",
       "Inflight entertainment                 0\n",
       "Online support                         0\n",
       "Ease of Online booking                 0\n",
       "On-board service                       0\n",
       "Leg room service                       0\n",
       "Baggage handling                       0\n",
       "Checkin service                        0\n",
       "Cleanliness                            0\n",
       "Online boarding                        0\n",
       "Departure Delay in Minutes             0\n",
       "Arrival Delay in Minutes             393\n",
       "dtype: int64"
      ]
     },
     "execution_count": 9,
     "metadata": {},
     "output_type": "execute_result"
    }
   ],
   "source": [
    "customer_df.isna().sum()"
   ]
  },
  {
   "cell_type": "code",
   "execution_count": 10,
   "id": "d48fb0b3",
   "metadata": {
    "execution": {
     "iopub.execute_input": "2024-05-23T20:49:51.075407Z",
     "iopub.status.busy": "2024-05-23T20:49:51.074824Z",
     "iopub.status.idle": "2024-05-23T20:49:51.083266Z",
     "shell.execute_reply": "2024-05-23T20:49:51.082259Z"
    },
    "papermill": {
     "duration": 0.03397,
     "end_time": "2024-05-23T20:49:51.086021",
     "exception": false,
     "start_time": "2024-05-23T20:49:51.052051",
     "status": "completed"
    },
    "tags": []
   },
   "outputs": [],
   "source": [
    "customer_df['Arrival Delay in Minutes'].fillna(customer_df['Arrival Delay in Minutes'].mean(), inplace=True)"
   ]
  },
  {
   "cell_type": "code",
   "execution_count": null,
   "id": "f86bc39b",
   "metadata": {},
   "outputs": [],
   "source": []
  },
  {
   "cell_type": "markdown",
   "id": "ae7d280d",
   "metadata": {
    "papermill": {
     "duration": 0.021093,
     "end_time": "2024-05-23T20:49:51.127099",
     "exception": false,
     "start_time": "2024-05-23T20:49:51.106006",
     "status": "completed"
    },
    "tags": []
   },
   "source": [
    "## Handling Outliers"
   ]
  },
  {
   "cell_type": "code",
   "execution_count": 11,
   "id": "024a84b2",
   "metadata": {
    "execution": {
     "iopub.execute_input": "2024-05-23T20:49:51.169955Z",
     "iopub.status.busy": "2024-05-23T20:49:51.169518Z",
     "iopub.status.idle": "2024-05-23T20:49:54.278121Z",
     "shell.execute_reply": "2024-05-23T20:49:54.276658Z"
    },
    "papermill": {
     "duration": 3.132999,
     "end_time": "2024-05-23T20:49:54.280961",
     "exception": false,
     "start_time": "2024-05-23T20:49:51.147962",
     "status": "completed"
    },
    "tags": []
   },
   "outputs": [
    {
     "data": {
      "image/png": "[encoded data removed]",
      "text/plain": [
       "<Figure size 1600x200 with 1 Axes>"
      ]
     },
     "metadata": {},
     "output_type": "display_data"
    },
    {
     "data": {
      "image/png": "[encoded data removed]",
      "text/plain": [
       "<Figure size 1600x200 with 1 Axes>"
      ]
     },
     "metadata": {},
     "output_type": "display_data"
    },
    {
     "data": {
      "image/png": "[encoded data removed]",
      "text/plain": [
       "<Figure size 1600x200 with 1 Axes>"
      ]
     },
     "metadata": {},
     "output_type": "display_data"
    },
    {
     "data": {
      "image/png": "[encoded data removed]",
      "text/plain": [
       "<Figure size 1600x200 with 1 Axes>"
      ]
     },
     "metadata": {},
     "output_type": "display_data"
    },
    {
     "data": {
      "image/png": "[encoded data removed]",
      "text/plain": [
       "<Figure size 1600x200 with 1 Axes>"
      ]
     },
     "metadata": {},
     "output_type": "display_data"
    },
    {
     "data": {
      "image/png": "[encoded data removed]",
      "text/plain": [
       "<Figure size 1600x200 with 1 Axes>"
      ]
     },
     "metadata": {},
     "output_type": "display_data"
    },
    {
     "data": {
      "image/png": "[encoded data removed]",
      "text/plain": [
       "<Figure size 1600x200 with 1 Axes>"
      ]
     },
     "metadata": {},
     "output_type": "display_data"
    },
    {
     "data": {
      "image/png": "[encoded data removed]",
      "text/plain": [
       "<Figure size 1600x200 with 1 Axes>"
      ]
     },
     "metadata": {},
     "output_type": "display_data"
    },
    {
     "data": {
      "image/png": "[encoded data removed]",
      "text/plain": [
       "<Figure size 1600x200 with 1 Axes>"
      ]
     },
     "metadata": {},
     "output_type": "display_data"
    },
    {
     "data": {
      "image/png": "[encoded data removed]",
      "text/plain": [
       "<Figure size 1600x200 with 1 Axes>"
      ]
     },
     "metadata": {},
     "output_type": "display_data"
    },
    {
     "data": {
      "image/png": "[encoded data removed]",
      "text/plain": [
       "<Figure size 1600x200 with 1 Axes>"
      ]
     },
     "metadata": {},
     "output_type": "display_data"
    },
    {
     "data": {
      "image/png": "[encoded data removed]",
      "text/plain": [
       "<Figure size 1600x200 with 1 Axes>"
      ]
     },
     "metadata": {},
     "output_type": "display_data"
    },
    {
     "data": {
      "image/png": "[encoded data removed]",
      "text/plain": [
       "<Figure size 1600x200 with 1 Axes>"
      ]
     },
     "metadata": {},
     "output_type": "display_data"
    },
    {
     "data": {
      "image/png": "[encoded data removed]",
      "text/plain": [
       "<Figure size 1600x200 with 1 Axes>"
      ]
     },
     "metadata": {},
     "output_type": "display_data"
    },
    {
     "data": {
      "image/png": "[encoded data removed]",
      "text/plain": [
       "<Figure size 1600x200 with 1 Axes>"
      ]
     },
     "metadata": {},
     "output_type": "display_data"
    },
    {
     "data": {
      "image/png": "[encoded data removed]",
      "text/plain": [
       "<Figure size 1600x200 with 1 Axes>"
      ]
     },
     "metadata": {},
     "output_type": "display_data"
    },
    {
     "data": {
      "image/png": "[encoded data removed]",
      "text/plain": [
       "<Figure size 1600x200 with 1 Axes>"
      ]
     },
     "metadata": {},
     "output_type": "display_data"
    },
    {
     "data": {
      "image/png": "[encoded data removed]",
      "text/plain": [
       "<Figure size 1600x200 with 1 Axes>"
      ]
     },
     "metadata": {},
     "output_type": "display_data"
    }
   ],
   "source": [
    "for col in customer_df.describe().columns:\n",
    "    set_size_style(16,2,'ticks')\n",
    "    sns.boxplot(data=customer_df, x=col)\n",
    "    plt.show()"
   ]
  },
  {
   "cell_type": "code",
   "execution_count": 12,
   "id": "959474fa",
   "metadata": {
    "execution": {
     "iopub.execute_input": "2024-05-23T20:49:54.405298Z",
     "iopub.status.busy": "2024-05-23T20:49:54.404851Z",
     "iopub.status.idle": "2024-05-23T20:49:54.488927Z",
     "shell.execute_reply": "2024-05-23T20:49:54.487634Z"
    },
    "papermill": {
     "duration": 0.114235,
     "end_time": "2024-05-23T20:49:54.491749",
     "exception": false,
     "start_time": "2024-05-23T20:49:54.377514",
     "status": "completed"
    },
    "tags": []
   },
   "outputs": [
    {
     "data": {
      "text/plain": [
       "(129587, 22)"
      ]
     },
     "execution_count": 12,
     "metadata": {},
     "output_type": "execute_result"
    }
   ],
   "source": [
    "customer_df = customer_df.drop(customer_df[customer_df['Departure Delay in Minutes'] > 500 ].index)\n",
    "customer_df = customer_df.drop(customer_df[customer_df['Arrival Delay in Minutes'] > 500 ].index)\n",
    "customer_df = customer_df.drop(customer_df[customer_df['Flight Distance'] > 5500 ].index)\n",
    "customer_df.reset_index(drop=True, inplace=True)\n",
    "customer_df.shape"
   ]
  },
  {
   "cell_type": "markdown",
   "id": "8798f815",
   "metadata": {
    "papermill": {
     "duration": 0.024764,
     "end_time": "2024-05-23T20:49:54.542661",
     "exception": false,
     "start_time": "2024-05-23T20:49:54.517897",
     "status": "completed"
    },
    "tags": []
   },
   "source": [
    "# Exploratory Data Analysis"
   ]
  },
  {
   "cell_type": "code",
   "execution_count": 13,
   "id": "38c20480",
   "metadata": {
    "execution": {
     "iopub.execute_input": "2024-05-23T20:49:54.595487Z",
     "iopub.status.busy": "2024-05-23T20:49:54.595034Z",
     "iopub.status.idle": "2024-05-23T20:49:54.603348Z",
     "shell.execute_reply": "2024-05-23T20:49:54.602146Z"
    },
    "papermill": {
     "duration": 0.038517,
     "end_time": "2024-05-23T20:49:54.606635",
     "exception": false,
     "start_time": "2024-05-23T20:49:54.568118",
     "status": "completed"
    },
    "tags": []
   },
   "outputs": [
    {
     "data": {
      "text/plain": [
       "Index(['satisfaction', 'Customer Type', 'Age', 'Type of Travel', 'Class',\n",
       "       'Flight Distance', 'Seat comfort', 'Departure/Arrival time convenient',\n",
       "       'Food and drink', 'Gate location', 'Inflight wifi service',\n",
       "       'Inflight entertainment', 'Online support', 'Ease of Online booking',\n",
       "       'On-board service', 'Leg room service', 'Baggage handling',\n",
       "       'Checkin service', 'Cleanliness', 'Online boarding',\n",
       "       'Departure Delay in Minutes', 'Arrival Delay in Minutes'],\n",
       "      dtype='object')"
      ]
     },
     "execution_count": 13,
     "metadata": {},
     "output_type": "execute_result"
    }
   ],
   "source": [
    "customer_df.columns"
   ]
  },
  {
   "cell_type": "code",
   "execution_count": 14,
   "id": "111b1502",
   "metadata": {
    "execution": {
     "iopub.execute_input": "2024-05-23T20:49:54.661760Z",
     "iopub.status.busy": "2024-05-23T20:49:54.661301Z",
     "iopub.status.idle": "2024-05-23T20:49:55.756606Z",
     "shell.execute_reply": "2024-05-23T20:49:55.755156Z"
    },
    "papermill": {
     "duration": 1.125217,
     "end_time": "2024-05-23T20:49:55.759583",
     "exception": false,
     "start_time": "2024-05-23T20:49:54.634366",
     "status": "completed"
    },
    "tags": []
   },
   "outputs": [
    {
     "data": {
      "image/png": "[encoded data removed]",
      "text/plain": [
       "<Figure size 1000x500 with 1 Axes>"
      ]
     },
     "metadata": {},
     "output_type": "display_data"
    }
   ],
   "source": [
    "set_size_style(10,5)\n",
    "ax = sns.histplot(customer_df['Age'],bins=25,color= sns.color_palette('Spectral')[0],kde=True)\n",
    "customize_plot(ax,'Age Distribution','Age','Frequency',13,10)"
   ]
  },
  {
   "cell_type": "markdown",
   "id": "cdbc5349",
   "metadata": {
    "papermill": {
     "duration": 0.025736,
     "end_time": "2024-05-23T20:49:55.812036",
     "exception": false,
     "start_time": "2024-05-23T20:49:55.786300",
     "status": "completed"
    },
    "tags": []
   },
   "source": [
    "- The majority of individuals fall within the age range of 20 to 60 years, with a notable concentration around the age of 40."
   ]
  },
  {
   "cell_type": "code",
   "execution_count": 15,
   "id": "2b3d780a",
   "metadata": {
    "execution": {
     "iopub.execute_input": "2024-05-23T20:49:55.867410Z",
     "iopub.status.busy": "2024-05-23T20:49:55.866370Z",
     "iopub.status.idle": "2024-05-23T20:49:56.171839Z",
     "shell.execute_reply": "2024-05-23T20:49:56.170616Z"
    },
    "papermill": {
     "duration": 0.336335,
     "end_time": "2024-05-23T20:49:56.175002",
     "exception": false,
     "start_time": "2024-05-23T20:49:55.838667",
     "status": "completed"
    },
    "tags": []
   },
   "outputs": [
    {
     "data": {
      "image/png": "[encoded data removed]",
      "text/plain": [
       "<Figure size 640x480 with 1 Axes>"
      ]
     },
     "metadata": {},
     "output_type": "display_data"
    }
   ],
   "source": [
    "plt.title(\"Satisfied vs Dissatisfied\", fontsize = 12, weight='bold')\n",
    "plt.pie(customer_df['satisfaction'].value_counts(),labels=customer_df['satisfaction'].value_counts().index,radius=1, autopct='%.2f%%',textprops={'fontsize': 10, 'fontweight': 'bold'}, colors = sns.color_palette('Spectral'))\n",
    "plt.show()"
   ]
  },
  {
   "cell_type": "markdown",
   "id": "13c82a8c",
   "metadata": {
    "papermill": {
     "duration": 0.028536,
     "end_time": "2024-05-23T20:49:56.232327",
     "exception": false,
     "start_time": "2024-05-23T20:49:56.203791",
     "status": "completed"
    },
    "tags": []
   },
   "source": [
    "- The number of satisfied customers exceeds the number of dissatisfied customers, indicating a prevailing trend towards positive experiences with the service or product."
   ]
  },
  {
   "cell_type": "code",
   "execution_count": 16,
   "id": "b78b9363",
   "metadata": {
    "execution": {
     "iopub.execute_input": "2024-05-23T20:49:56.291280Z",
     "iopub.status.busy": "2024-05-23T20:49:56.290892Z",
     "iopub.status.idle": "2024-05-23T20:49:56.690877Z",
     "shell.execute_reply": "2024-05-23T20:49:56.689598Z"
    },
    "papermill": {
     "duration": 0.432735,
     "end_time": "2024-05-23T20:49:56.694242",
     "exception": false,
     "start_time": "2024-05-23T20:49:56.261507",
     "status": "completed"
    },
    "tags": []
   },
   "outputs": [
    {
     "data": {
      "image/png": "[encoded data removed]",
      "text/plain": [
       "<Figure size 1200x500 with 1 Axes>"
      ]
     },
     "metadata": {},
     "output_type": "display_data"
    }
   ],
   "source": [
    "set_size_style(12,5)\n",
    "age_groups = customer_df.groupby('Age')['satisfaction'].value_counts(normalize=True).unstack()\n",
    "satisfied_percentage = age_groups['satisfied'] * 100\n",
    "ax =sns.lineplot(x=satisfied_percentage.index, y=satisfied_percentage.values, marker='o', color= sns.color_palette('Spectral')[0])\n",
    "customize_plot(ax, 'Satisfied Percentage across Age', 'Age', 'Satisfied Percentage',13,10)\n",
    "plt.grid(True)\n",
    "plt.show()"
   ]
  },
  {
   "cell_type": "markdown",
   "id": "5dd9f3ef",
   "metadata": {
    "papermill": {
     "duration": 0.029836,
     "end_time": "2024-05-23T20:49:56.753880",
     "exception": false,
     "start_time": "2024-05-23T20:49:56.724044",
     "status": "completed"
    },
    "tags": []
   },
   "source": [
    "- Individuals in their 40s and 50s exhibit satisfaction with airline services.\n",
    "- Conversely, older individuals above the age of 70 express significantly higher levels of dissatisfaction with the services provided"
   ]
  },
  {
   "cell_type": "code",
   "execution_count": 17,
   "id": "9e9789fc",
   "metadata": {
    "execution": {
     "iopub.execute_input": "2024-05-23T20:49:56.813304Z",
     "iopub.status.busy": "2024-05-23T20:49:56.812822Z",
     "iopub.status.idle": "2024-05-23T20:49:57.496753Z",
     "shell.execute_reply": "2024-05-23T20:49:57.495602Z"
    },
    "papermill": {
     "duration": 0.717725,
     "end_time": "2024-05-23T20:49:57.499701",
     "exception": false,
     "start_time": "2024-05-23T20:49:56.781976",
     "status": "completed"
    },
    "tags": []
   },
   "outputs": [
    {
     "data": {
      "text/plain": [
       "<matplotlib.legend.Legend at 0x7d155722d6f0>"
      ]
     },
     "execution_count": 17,
     "metadata": {},
     "output_type": "execute_result"
    },
    {
     "data": {
      "image/png": "[encoded data removed]",
      "text/plain": [
       "<Figure size 1200x700 with 1 Axes>"
      ]
     },
     "metadata": {},
     "output_type": "display_data"
    }
   ],
   "source": [
    "set_size_style(12,7)\n",
    "class_ratings = customer_df.groupby('Class').agg({'Cleanliness':'mean',\n",
    "                                                       'Checkin service' : 'mean',\n",
    "                                                       'Seat comfort':'mean',\n",
    "                                                       'Inflight wifi service':'mean', \n",
    "                                                       'Leg room service':'mean'}).reset_index()\n",
    "class_ratings_melted = pd.melt(class_ratings, id_vars='Class', var_name='Category', value_name='Mean Rating')\n",
    "ax = sns.barplot(x='Class', y='Mean Rating', hue='Category', data=class_ratings_melted, palette='Spectral')\n",
    "for c in ax.containers:\n",
    "        ax.bar_label(c)\n",
    "customize_plot(ax, 'Mean Ratings across Class', 'Class', 'Mean Rating',13,10)\n",
    "handles, labels = ax.get_legend_handles_labels()\n",
    "ax.legend(handles=handles, labels=labels, title='Category', bbox_to_anchor=(1.05, 1), loc='upper left')\n"
   ]
  },
  {
   "cell_type": "markdown",
   "id": "1e931b5e",
   "metadata": {
    "papermill": {
     "duration": 0.028332,
     "end_time": "2024-05-23T20:49:57.558602",
     "exception": false,
     "start_time": "2024-05-23T20:49:57.530270",
     "status": "completed"
    },
    "tags": []
   },
   "source": [
    "- Travelers in the business class generally give higher average ratings for cleanliness, check-in experience, in-flight wifi, and legroom service.\n",
    "- Interestingly, passengers in the business class tend to rate seat comfort comparatively lower."
   ]
  },
  {
   "cell_type": "code",
   "execution_count": 18,
   "id": "62f500d5",
   "metadata": {
    "execution": {
     "iopub.execute_input": "2024-05-23T20:49:57.620264Z",
     "iopub.status.busy": "2024-05-23T20:49:57.619593Z",
     "iopub.status.idle": "2024-05-23T20:49:58.805076Z",
     "shell.execute_reply": "2024-05-23T20:49:58.803734Z"
    },
    "papermill": {
     "duration": 1.221314,
     "end_time": "2024-05-23T20:49:58.809348",
     "exception": false,
     "start_time": "2024-05-23T20:49:57.588034",
     "status": "completed"
    },
    "tags": []
   },
   "outputs": [
    {
     "data": {
      "text/plain": [
       "<Axes: >"
      ]
     },
     "execution_count": 18,
     "metadata": {},
     "output_type": "execute_result"
    },
    {
     "data": {
      "image/png": "[encoded data removed]",
      "text/plain": [
       "<Figure size 1200x1000 with 2 Axes>"
      ]
     },
     "metadata": {},
     "output_type": "display_data"
    }
   ],
   "source": [
    "corr = customer_df[['Flight Distance', 'Seat comfort', 'Departure/Arrival time convenient',\n",
    "       'Food and drink', 'Gate location', 'Inflight wifi service',\n",
    "       'Inflight entertainment', 'Online support', 'Ease of Online booking',\n",
    "       'On-board service', 'Leg room service', 'Baggage handling',\n",
    "       'Checkin service', 'Cleanliness', 'Online boarding',\n",
    "       'Departure Delay in Minutes', 'Arrival Delay in Minutes']].corr()\n",
    "mask = np.triu(np.ones_like(corr, dtype=bool))\n",
    "plt.figure(figsize=(12, 10))\n",
    "sns.heatmap(corr, mask=mask, center=0, linewidths=1, annot=True, fmt=\".2f\",cmap = 'coolwarm')"
   ]
  },
  {
   "cell_type": "code",
   "execution_count": 19,
   "id": "f7c4fd8a",
   "metadata": {
    "execution": {
     "iopub.execute_input": "2024-05-23T20:49:58.876567Z",
     "iopub.status.busy": "2024-05-23T20:49:58.876165Z",
     "iopub.status.idle": "2024-05-23T20:49:58.892515Z",
     "shell.execute_reply": "2024-05-23T20:49:58.891339Z"
    },
    "papermill": {
     "duration": 0.053632,
     "end_time": "2024-05-23T20:49:58.895455",
     "exception": false,
     "start_time": "2024-05-23T20:49:58.841823",
     "status": "completed"
    },
    "tags": []
   },
   "outputs": [],
   "source": [
    "customer_df.drop(columns = ['Arrival Delay in Minutes'],inplace = True)"
   ]
  },
  {
   "cell_type": "markdown",
   "id": "6a3add81",
   "metadata": {
    "papermill": {
     "duration": 0.032682,
     "end_time": "2024-05-23T20:49:58.960937",
     "exception": false,
     "start_time": "2024-05-23T20:49:58.928255",
     "status": "completed"
    },
    "tags": []
   },
   "source": [
    "# Encoding Categorical Features"
   ]
  },
  {
   "cell_type": "code",
   "execution_count": 20,
   "id": "414485e4",
   "metadata": {
    "execution": {
     "iopub.execute_input": "2024-05-23T20:49:59.029912Z",
     "iopub.status.busy": "2024-05-23T20:49:59.029453Z",
     "iopub.status.idle": "2024-05-23T20:49:59.059004Z",
     "shell.execute_reply": "2024-05-23T20:49:59.057874Z"
    },
    "papermill": {
     "duration": 0.067266,
     "end_time": "2024-05-23T20:49:59.061836",
     "exception": false,
     "start_time": "2024-05-23T20:49:58.994570",
     "status": "completed"
    },
    "tags": []
   },
   "outputs": [
    {
     "data": {
      "text/html": [
       "<div>\n",
       "<style scoped>\n",
       "    .dataframe tbody tr th:only-of-type {\n",
       "        vertical-align: middle;\n",
       "    }\n",
       "\n",
       "    .dataframe tbody tr th {\n",
       "        vertical-align: top;\n",
       "    }\n",
       "\n",
       "    .dataframe thead th {\n",
       "        text-align: right;\n",
       "    }\n",
       "</style>\n",
       "<table border=\"1\" class=\"dataframe\">\n",
       "  <thead>\n",
       "    <tr style=\"text-align: right;\">\n",
       "      <th></th>\n",
       "      <th>Business</th>\n",
       "      <th>Eco</th>\n",
       "      <th>Eco Plus</th>\n",
       "    </tr>\n",
       "  </thead>\n",
       "  <tbody>\n",
       "    <tr>\n",
       "      <th>0</th>\n",
       "      <td>0</td>\n",
       "      <td>1</td>\n",
       "      <td>0</td>\n",
       "    </tr>\n",
       "    <tr>\n",
       "      <th>1</th>\n",
       "      <td>1</td>\n",
       "      <td>0</td>\n",
       "      <td>0</td>\n",
       "    </tr>\n",
       "    <tr>\n",
       "      <th>2</th>\n",
       "      <td>0</td>\n",
       "      <td>1</td>\n",
       "      <td>0</td>\n",
       "    </tr>\n",
       "    <tr>\n",
       "      <th>3</th>\n",
       "      <td>0</td>\n",
       "      <td>1</td>\n",
       "      <td>0</td>\n",
       "    </tr>\n",
       "    <tr>\n",
       "      <th>4</th>\n",
       "      <td>0</td>\n",
       "      <td>1</td>\n",
       "      <td>0</td>\n",
       "    </tr>\n",
       "    <tr>\n",
       "      <th>...</th>\n",
       "      <td>...</td>\n",
       "      <td>...</td>\n",
       "      <td>...</td>\n",
       "    </tr>\n",
       "    <tr>\n",
       "      <th>129582</th>\n",
       "      <td>0</td>\n",
       "      <td>1</td>\n",
       "      <td>0</td>\n",
       "    </tr>\n",
       "    <tr>\n",
       "      <th>129583</th>\n",
       "      <td>1</td>\n",
       "      <td>0</td>\n",
       "      <td>0</td>\n",
       "    </tr>\n",
       "    <tr>\n",
       "      <th>129584</th>\n",
       "      <td>0</td>\n",
       "      <td>1</td>\n",
       "      <td>0</td>\n",
       "    </tr>\n",
       "    <tr>\n",
       "      <th>129585</th>\n",
       "      <td>0</td>\n",
       "      <td>1</td>\n",
       "      <td>0</td>\n",
       "    </tr>\n",
       "    <tr>\n",
       "      <th>129586</th>\n",
       "      <td>0</td>\n",
       "      <td>1</td>\n",
       "      <td>0</td>\n",
       "    </tr>\n",
       "  </tbody>\n",
       "</table>\n",
       "<p>129587 rows × 3 columns</p>\n",
       "</div>"
      ],
      "text/plain": [
       "        Business  Eco  Eco Plus\n",
       "0              0    1         0\n",
       "1              1    0         0\n",
       "2              0    1         0\n",
       "3              0    1         0\n",
       "4              0    1         0\n",
       "...          ...  ...       ...\n",
       "129582         0    1         0\n",
       "129583         1    0         0\n",
       "129584         0    1         0\n",
       "129585         0    1         0\n",
       "129586         0    1         0\n",
       "\n",
       "[129587 rows x 3 columns]"
      ]
     },
     "execution_count": 20,
     "metadata": {},
     "output_type": "execute_result"
    }
   ],
   "source": [
    "dummies=pd.get_dummies(customer_df['Class'], dtype=int)\n",
    "dummies"
   ]
  },
  {
   "cell_type": "code",
   "execution_count": 21,
   "id": "2877c57c",
   "metadata": {
    "execution": {
     "iopub.execute_input": "2024-05-23T20:49:59.128342Z",
     "iopub.status.busy": "2024-05-23T20:49:59.127964Z",
     "iopub.status.idle": "2024-05-23T20:49:59.244366Z",
     "shell.execute_reply": "2024-05-23T20:49:59.243040Z"
    },
    "papermill": {
     "duration": 0.152814,
     "end_time": "2024-05-23T20:49:59.247126",
     "exception": false,
     "start_time": "2024-05-23T20:49:59.094312",
     "status": "completed"
    },
    "tags": []
   },
   "outputs": [
    {
     "data": {
      "text/html": [
       "<div>\n",
       "<style scoped>\n",
       "    .dataframe tbody tr th:only-of-type {\n",
       "        vertical-align: middle;\n",
       "    }\n",
       "\n",
       "    .dataframe tbody tr th {\n",
       "        vertical-align: top;\n",
       "    }\n",
       "\n",
       "    .dataframe thead th {\n",
       "        text-align: right;\n",
       "    }\n",
       "</style>\n",
       "<table border=\"1\" class=\"dataframe\">\n",
       "  <thead>\n",
       "    <tr style=\"text-align: right;\">\n",
       "      <th></th>\n",
       "      <th>satisfaction</th>\n",
       "      <th>Customer Type</th>\n",
       "      <th>Age</th>\n",
       "      <th>Type of Travel</th>\n",
       "      <th>Flight Distance</th>\n",
       "      <th>Seat comfort</th>\n",
       "      <th>Departure/Arrival time convenient</th>\n",
       "      <th>Food and drink</th>\n",
       "      <th>Gate location</th>\n",
       "      <th>Inflight wifi service</th>\n",
       "      <th>...</th>\n",
       "      <th>On-board service</th>\n",
       "      <th>Leg room service</th>\n",
       "      <th>Baggage handling</th>\n",
       "      <th>Checkin service</th>\n",
       "      <th>Cleanliness</th>\n",
       "      <th>Online boarding</th>\n",
       "      <th>Departure Delay in Minutes</th>\n",
       "      <th>Business</th>\n",
       "      <th>Eco</th>\n",
       "      <th>Eco Plus</th>\n",
       "    </tr>\n",
       "  </thead>\n",
       "  <tbody>\n",
       "    <tr>\n",
       "      <th>0</th>\n",
       "      <td>satisfied</td>\n",
       "      <td>Loyal Customer</td>\n",
       "      <td>65</td>\n",
       "      <td>Personal Travel</td>\n",
       "      <td>265</td>\n",
       "      <td>0</td>\n",
       "      <td>0</td>\n",
       "      <td>0</td>\n",
       "      <td>2</td>\n",
       "      <td>2</td>\n",
       "      <td>...</td>\n",
       "      <td>3</td>\n",
       "      <td>0</td>\n",
       "      <td>3</td>\n",
       "      <td>5</td>\n",
       "      <td>3</td>\n",
       "      <td>2</td>\n",
       "      <td>0</td>\n",
       "      <td>0</td>\n",
       "      <td>1</td>\n",
       "      <td>0</td>\n",
       "    </tr>\n",
       "    <tr>\n",
       "      <th>1</th>\n",
       "      <td>satisfied</td>\n",
       "      <td>Loyal Customer</td>\n",
       "      <td>47</td>\n",
       "      <td>Personal Travel</td>\n",
       "      <td>2464</td>\n",
       "      <td>0</td>\n",
       "      <td>0</td>\n",
       "      <td>0</td>\n",
       "      <td>3</td>\n",
       "      <td>0</td>\n",
       "      <td>...</td>\n",
       "      <td>4</td>\n",
       "      <td>4</td>\n",
       "      <td>4</td>\n",
       "      <td>2</td>\n",
       "      <td>3</td>\n",
       "      <td>2</td>\n",
       "      <td>310</td>\n",
       "      <td>1</td>\n",
       "      <td>0</td>\n",
       "      <td>0</td>\n",
       "    </tr>\n",
       "    <tr>\n",
       "      <th>2</th>\n",
       "      <td>satisfied</td>\n",
       "      <td>Loyal Customer</td>\n",
       "      <td>15</td>\n",
       "      <td>Personal Travel</td>\n",
       "      <td>2138</td>\n",
       "      <td>0</td>\n",
       "      <td>0</td>\n",
       "      <td>0</td>\n",
       "      <td>3</td>\n",
       "      <td>2</td>\n",
       "      <td>...</td>\n",
       "      <td>3</td>\n",
       "      <td>3</td>\n",
       "      <td>4</td>\n",
       "      <td>4</td>\n",
       "      <td>4</td>\n",
       "      <td>2</td>\n",
       "      <td>0</td>\n",
       "      <td>0</td>\n",
       "      <td>1</td>\n",
       "      <td>0</td>\n",
       "    </tr>\n",
       "    <tr>\n",
       "      <th>3</th>\n",
       "      <td>satisfied</td>\n",
       "      <td>Loyal Customer</td>\n",
       "      <td>60</td>\n",
       "      <td>Personal Travel</td>\n",
       "      <td>623</td>\n",
       "      <td>0</td>\n",
       "      <td>0</td>\n",
       "      <td>0</td>\n",
       "      <td>3</td>\n",
       "      <td>3</td>\n",
       "      <td>...</td>\n",
       "      <td>1</td>\n",
       "      <td>0</td>\n",
       "      <td>1</td>\n",
       "      <td>4</td>\n",
       "      <td>1</td>\n",
       "      <td>3</td>\n",
       "      <td>0</td>\n",
       "      <td>0</td>\n",
       "      <td>1</td>\n",
       "      <td>0</td>\n",
       "    </tr>\n",
       "    <tr>\n",
       "      <th>4</th>\n",
       "      <td>satisfied</td>\n",
       "      <td>Loyal Customer</td>\n",
       "      <td>70</td>\n",
       "      <td>Personal Travel</td>\n",
       "      <td>354</td>\n",
       "      <td>0</td>\n",
       "      <td>0</td>\n",
       "      <td>0</td>\n",
       "      <td>3</td>\n",
       "      <td>4</td>\n",
       "      <td>...</td>\n",
       "      <td>2</td>\n",
       "      <td>0</td>\n",
       "      <td>2</td>\n",
       "      <td>4</td>\n",
       "      <td>2</td>\n",
       "      <td>5</td>\n",
       "      <td>0</td>\n",
       "      <td>0</td>\n",
       "      <td>1</td>\n",
       "      <td>0</td>\n",
       "    </tr>\n",
       "    <tr>\n",
       "      <th>...</th>\n",
       "      <td>...</td>\n",
       "      <td>...</td>\n",
       "      <td>...</td>\n",
       "      <td>...</td>\n",
       "      <td>...</td>\n",
       "      <td>...</td>\n",
       "      <td>...</td>\n",
       "      <td>...</td>\n",
       "      <td>...</td>\n",
       "      <td>...</td>\n",
       "      <td>...</td>\n",
       "      <td>...</td>\n",
       "      <td>...</td>\n",
       "      <td>...</td>\n",
       "      <td>...</td>\n",
       "      <td>...</td>\n",
       "      <td>...</td>\n",
       "      <td>...</td>\n",
       "      <td>...</td>\n",
       "      <td>...</td>\n",
       "      <td>...</td>\n",
       "    </tr>\n",
       "    <tr>\n",
       "      <th>129582</th>\n",
       "      <td>satisfied</td>\n",
       "      <td>disloyal Customer</td>\n",
       "      <td>29</td>\n",
       "      <td>Personal Travel</td>\n",
       "      <td>1731</td>\n",
       "      <td>5</td>\n",
       "      <td>5</td>\n",
       "      <td>5</td>\n",
       "      <td>3</td>\n",
       "      <td>2</td>\n",
       "      <td>...</td>\n",
       "      <td>3</td>\n",
       "      <td>3</td>\n",
       "      <td>4</td>\n",
       "      <td>4</td>\n",
       "      <td>4</td>\n",
       "      <td>2</td>\n",
       "      <td>0</td>\n",
       "      <td>0</td>\n",
       "      <td>1</td>\n",
       "      <td>0</td>\n",
       "    </tr>\n",
       "    <tr>\n",
       "      <th>129583</th>\n",
       "      <td>dissatisfied</td>\n",
       "      <td>disloyal Customer</td>\n",
       "      <td>63</td>\n",
       "      <td>Personal Travel</td>\n",
       "      <td>2087</td>\n",
       "      <td>2</td>\n",
       "      <td>3</td>\n",
       "      <td>2</td>\n",
       "      <td>4</td>\n",
       "      <td>2</td>\n",
       "      <td>...</td>\n",
       "      <td>2</td>\n",
       "      <td>3</td>\n",
       "      <td>3</td>\n",
       "      <td>1</td>\n",
       "      <td>2</td>\n",
       "      <td>1</td>\n",
       "      <td>174</td>\n",
       "      <td>1</td>\n",
       "      <td>0</td>\n",
       "      <td>0</td>\n",
       "    </tr>\n",
       "    <tr>\n",
       "      <th>129584</th>\n",
       "      <td>dissatisfied</td>\n",
       "      <td>disloyal Customer</td>\n",
       "      <td>69</td>\n",
       "      <td>Personal Travel</td>\n",
       "      <td>2320</td>\n",
       "      <td>3</td>\n",
       "      <td>0</td>\n",
       "      <td>3</td>\n",
       "      <td>3</td>\n",
       "      <td>3</td>\n",
       "      <td>...</td>\n",
       "      <td>4</td>\n",
       "      <td>3</td>\n",
       "      <td>4</td>\n",
       "      <td>2</td>\n",
       "      <td>3</td>\n",
       "      <td>2</td>\n",
       "      <td>155</td>\n",
       "      <td>0</td>\n",
       "      <td>1</td>\n",
       "      <td>0</td>\n",
       "    </tr>\n",
       "    <tr>\n",
       "      <th>129585</th>\n",
       "      <td>dissatisfied</td>\n",
       "      <td>disloyal Customer</td>\n",
       "      <td>66</td>\n",
       "      <td>Personal Travel</td>\n",
       "      <td>2450</td>\n",
       "      <td>3</td>\n",
       "      <td>2</td>\n",
       "      <td>3</td>\n",
       "      <td>2</td>\n",
       "      <td>3</td>\n",
       "      <td>...</td>\n",
       "      <td>3</td>\n",
       "      <td>2</td>\n",
       "      <td>3</td>\n",
       "      <td>2</td>\n",
       "      <td>1</td>\n",
       "      <td>2</td>\n",
       "      <td>193</td>\n",
       "      <td>0</td>\n",
       "      <td>1</td>\n",
       "      <td>0</td>\n",
       "    </tr>\n",
       "    <tr>\n",
       "      <th>129586</th>\n",
       "      <td>dissatisfied</td>\n",
       "      <td>disloyal Customer</td>\n",
       "      <td>38</td>\n",
       "      <td>Personal Travel</td>\n",
       "      <td>4307</td>\n",
       "      <td>3</td>\n",
       "      <td>4</td>\n",
       "      <td>3</td>\n",
       "      <td>3</td>\n",
       "      <td>3</td>\n",
       "      <td>...</td>\n",
       "      <td>5</td>\n",
       "      <td>5</td>\n",
       "      <td>5</td>\n",
       "      <td>3</td>\n",
       "      <td>3</td>\n",
       "      <td>3</td>\n",
       "      <td>185</td>\n",
       "      <td>0</td>\n",
       "      <td>1</td>\n",
       "      <td>0</td>\n",
       "    </tr>\n",
       "  </tbody>\n",
       "</table>\n",
       "<p>129587 rows × 23 columns</p>\n",
       "</div>"
      ],
      "text/plain": [
       "        satisfaction      Customer Type  Age   Type of Travel  \\\n",
       "0          satisfied     Loyal Customer   65  Personal Travel   \n",
       "1          satisfied     Loyal Customer   47  Personal Travel   \n",
       "2          satisfied     Loyal Customer   15  Personal Travel   \n",
       "3          satisfied     Loyal Customer   60  Personal Travel   \n",
       "4          satisfied     Loyal Customer   70  Personal Travel   \n",
       "...              ...                ...  ...              ...   \n",
       "129582     satisfied  disloyal Customer   29  Personal Travel   \n",
       "129583  dissatisfied  disloyal Customer   63  Personal Travel   \n",
       "129584  dissatisfied  disloyal Customer   69  Personal Travel   \n",
       "129585  dissatisfied  disloyal Customer   66  Personal Travel   \n",
       "129586  dissatisfied  disloyal Customer   38  Personal Travel   \n",
       "\n",
       "        Flight Distance  Seat comfort  Departure/Arrival time convenient  \\\n",
       "0                   265             0                                  0   \n",
       "1                  2464             0                                  0   \n",
       "2                  2138             0                                  0   \n",
       "3                   623             0                                  0   \n",
       "4                   354             0                                  0   \n",
       "...                 ...           ...                                ...   \n",
       "129582             1731             5                                  5   \n",
       "129583             2087             2                                  3   \n",
       "129584             2320             3                                  0   \n",
       "129585             2450             3                                  2   \n",
       "129586             4307             3                                  4   \n",
       "\n",
       "        Food and drink  Gate location  Inflight wifi service  ...  \\\n",
       "0                    0              2                      2  ...   \n",
       "1                    0              3                      0  ...   \n",
       "2                    0              3                      2  ...   \n",
       "3                    0              3                      3  ...   \n",
       "4                    0              3                      4  ...   \n",
       "...                ...            ...                    ...  ...   \n",
       "129582               5              3                      2  ...   \n",
       "129583               2              4                      2  ...   \n",
       "129584               3              3                      3  ...   \n",
       "129585               3              2                      3  ...   \n",
       "129586               3              3                      3  ...   \n",
       "\n",
       "        On-board service  Leg room service  Baggage handling  Checkin service  \\\n",
       "0                      3                 0                 3                5   \n",
       "1                      4                 4                 4                2   \n",
       "2                      3                 3                 4                4   \n",
       "3                      1                 0                 1                4   \n",
       "4                      2                 0                 2                4   \n",
       "...                  ...               ...               ...              ...   \n",
       "129582                 3                 3                 4                4   \n",
       "129583                 2                 3                 3                1   \n",
       "129584                 4                 3                 4                2   \n",
       "129585                 3                 2                 3                2   \n",
       "129586                 5                 5                 5                3   \n",
       "\n",
       "        Cleanliness  Online boarding  Departure Delay in Minutes  Business  \\\n",
       "0                 3                2                           0         0   \n",
       "1                 3                2                         310         1   \n",
       "2                 4                2                           0         0   \n",
       "3                 1                3                           0         0   \n",
       "4                 2                5                           0         0   \n",
       "...             ...              ...                         ...       ...   \n",
       "129582            4                2                           0         0   \n",
       "129583            2                1                         174         1   \n",
       "129584            3                2                         155         0   \n",
       "129585            1                2                         193         0   \n",
       "129586            3                3                         185         0   \n",
       "\n",
       "        Eco  Eco Plus  \n",
       "0         1         0  \n",
       "1         0         0  \n",
       "2         1         0  \n",
       "3         1         0  \n",
       "4         1         0  \n",
       "...     ...       ...  \n",
       "129582    1         0  \n",
       "129583    0         0  \n",
       "129584    1         0  \n",
       "129585    1         0  \n",
       "129586    1         0  \n",
       "\n",
       "[129587 rows x 23 columns]"
      ]
     },
     "execution_count": 21,
     "metadata": {},
     "output_type": "execute_result"
    }
   ],
   "source": [
    "customer_encoded = pd.concat([customer_df,dummies], axis = 'columns')\n",
    "customer_encoded.drop(columns = ['Class'], inplace=True)\n",
    "customer_encoded"
   ]
  },
  {
   "cell_type": "code",
   "execution_count": 22,
   "id": "86a76887",
   "metadata": {
    "execution": {
     "iopub.execute_input": "2024-05-23T20:49:59.315033Z",
     "iopub.status.busy": "2024-05-23T20:49:59.314638Z",
     "iopub.status.idle": "2024-05-23T20:49:59.449668Z",
     "shell.execute_reply": "2024-05-23T20:49:59.448191Z"
    },
    "papermill": {
     "duration": 0.172309,
     "end_time": "2024-05-23T20:49:59.452426",
     "exception": false,
     "start_time": "2024-05-23T20:49:59.280117",
     "status": "completed"
    },
    "tags": []
   },
   "outputs": [
    {
     "data": {
      "text/html": [
       "<div>\n",
       "<style scoped>\n",
       "    .dataframe tbody tr th:only-of-type {\n",
       "        vertical-align: middle;\n",
       "    }\n",
       "\n",
       "    .dataframe tbody tr th {\n",
       "        vertical-align: top;\n",
       "    }\n",
       "\n",
       "    .dataframe thead th {\n",
       "        text-align: right;\n",
       "    }\n",
       "</style>\n",
       "<table border=\"1\" class=\"dataframe\">\n",
       "  <thead>\n",
       "    <tr style=\"text-align: right;\">\n",
       "      <th></th>\n",
       "      <th>satisfaction</th>\n",
       "      <th>Customer Type</th>\n",
       "      <th>Age</th>\n",
       "      <th>Type of Travel</th>\n",
       "      <th>Flight Distance</th>\n",
       "      <th>Seat comfort</th>\n",
       "      <th>Departure/Arrival time convenient</th>\n",
       "      <th>Food and drink</th>\n",
       "      <th>Gate location</th>\n",
       "      <th>Inflight wifi service</th>\n",
       "      <th>...</th>\n",
       "      <th>On-board service</th>\n",
       "      <th>Leg room service</th>\n",
       "      <th>Baggage handling</th>\n",
       "      <th>Checkin service</th>\n",
       "      <th>Cleanliness</th>\n",
       "      <th>Online boarding</th>\n",
       "      <th>Departure Delay in Minutes</th>\n",
       "      <th>Business</th>\n",
       "      <th>Eco</th>\n",
       "      <th>Eco Plus</th>\n",
       "    </tr>\n",
       "  </thead>\n",
       "  <tbody>\n",
       "    <tr>\n",
       "      <th>0</th>\n",
       "      <td>1</td>\n",
       "      <td>1</td>\n",
       "      <td>65</td>\n",
       "      <td>1</td>\n",
       "      <td>265</td>\n",
       "      <td>0</td>\n",
       "      <td>0</td>\n",
       "      <td>0</td>\n",
       "      <td>2</td>\n",
       "      <td>2</td>\n",
       "      <td>...</td>\n",
       "      <td>3</td>\n",
       "      <td>0</td>\n",
       "      <td>3</td>\n",
       "      <td>5</td>\n",
       "      <td>3</td>\n",
       "      <td>2</td>\n",
       "      <td>0</td>\n",
       "      <td>0</td>\n",
       "      <td>1</td>\n",
       "      <td>0</td>\n",
       "    </tr>\n",
       "    <tr>\n",
       "      <th>1</th>\n",
       "      <td>1</td>\n",
       "      <td>1</td>\n",
       "      <td>47</td>\n",
       "      <td>1</td>\n",
       "      <td>2464</td>\n",
       "      <td>0</td>\n",
       "      <td>0</td>\n",
       "      <td>0</td>\n",
       "      <td>3</td>\n",
       "      <td>0</td>\n",
       "      <td>...</td>\n",
       "      <td>4</td>\n",
       "      <td>4</td>\n",
       "      <td>4</td>\n",
       "      <td>2</td>\n",
       "      <td>3</td>\n",
       "      <td>2</td>\n",
       "      <td>310</td>\n",
       "      <td>1</td>\n",
       "      <td>0</td>\n",
       "      <td>0</td>\n",
       "    </tr>\n",
       "    <tr>\n",
       "      <th>2</th>\n",
       "      <td>1</td>\n",
       "      <td>1</td>\n",
       "      <td>15</td>\n",
       "      <td>1</td>\n",
       "      <td>2138</td>\n",
       "      <td>0</td>\n",
       "      <td>0</td>\n",
       "      <td>0</td>\n",
       "      <td>3</td>\n",
       "      <td>2</td>\n",
       "      <td>...</td>\n",
       "      <td>3</td>\n",
       "      <td>3</td>\n",
       "      <td>4</td>\n",
       "      <td>4</td>\n",
       "      <td>4</td>\n",
       "      <td>2</td>\n",
       "      <td>0</td>\n",
       "      <td>0</td>\n",
       "      <td>1</td>\n",
       "      <td>0</td>\n",
       "    </tr>\n",
       "    <tr>\n",
       "      <th>3</th>\n",
       "      <td>1</td>\n",
       "      <td>1</td>\n",
       "      <td>60</td>\n",
       "      <td>1</td>\n",
       "      <td>623</td>\n",
       "      <td>0</td>\n",
       "      <td>0</td>\n",
       "      <td>0</td>\n",
       "      <td>3</td>\n",
       "      <td>3</td>\n",
       "      <td>...</td>\n",
       "      <td>1</td>\n",
       "      <td>0</td>\n",
       "      <td>1</td>\n",
       "      <td>4</td>\n",
       "      <td>1</td>\n",
       "      <td>3</td>\n",
       "      <td>0</td>\n",
       "      <td>0</td>\n",
       "      <td>1</td>\n",
       "      <td>0</td>\n",
       "    </tr>\n",
       "    <tr>\n",
       "      <th>4</th>\n",
       "      <td>1</td>\n",
       "      <td>1</td>\n",
       "      <td>70</td>\n",
       "      <td>1</td>\n",
       "      <td>354</td>\n",
       "      <td>0</td>\n",
       "      <td>0</td>\n",
       "      <td>0</td>\n",
       "      <td>3</td>\n",
       "      <td>4</td>\n",
       "      <td>...</td>\n",
       "      <td>2</td>\n",
       "      <td>0</td>\n",
       "      <td>2</td>\n",
       "      <td>4</td>\n",
       "      <td>2</td>\n",
       "      <td>5</td>\n",
       "      <td>0</td>\n",
       "      <td>0</td>\n",
       "      <td>1</td>\n",
       "      <td>0</td>\n",
       "    </tr>\n",
       "    <tr>\n",
       "      <th>...</th>\n",
       "      <td>...</td>\n",
       "      <td>...</td>\n",
       "      <td>...</td>\n",
       "      <td>...</td>\n",
       "      <td>...</td>\n",
       "      <td>...</td>\n",
       "      <td>...</td>\n",
       "      <td>...</td>\n",
       "      <td>...</td>\n",
       "      <td>...</td>\n",
       "      <td>...</td>\n",
       "      <td>...</td>\n",
       "      <td>...</td>\n",
       "      <td>...</td>\n",
       "      <td>...</td>\n",
       "      <td>...</td>\n",
       "      <td>...</td>\n",
       "      <td>...</td>\n",
       "      <td>...</td>\n",
       "      <td>...</td>\n",
       "      <td>...</td>\n",
       "    </tr>\n",
       "    <tr>\n",
       "      <th>129582</th>\n",
       "      <td>1</td>\n",
       "      <td>0</td>\n",
       "      <td>29</td>\n",
       "      <td>1</td>\n",
       "      <td>1731</td>\n",
       "      <td>5</td>\n",
       "      <td>5</td>\n",
       "      <td>5</td>\n",
       "      <td>3</td>\n",
       "      <td>2</td>\n",
       "      <td>...</td>\n",
       "      <td>3</td>\n",
       "      <td>3</td>\n",
       "      <td>4</td>\n",
       "      <td>4</td>\n",
       "      <td>4</td>\n",
       "      <td>2</td>\n",
       "      <td>0</td>\n",
       "      <td>0</td>\n",
       "      <td>1</td>\n",
       "      <td>0</td>\n",
       "    </tr>\n",
       "    <tr>\n",
       "      <th>129583</th>\n",
       "      <td>0</td>\n",
       "      <td>0</td>\n",
       "      <td>63</td>\n",
       "      <td>1</td>\n",
       "      <td>2087</td>\n",
       "      <td>2</td>\n",
       "      <td>3</td>\n",
       "      <td>2</td>\n",
       "      <td>4</td>\n",
       "      <td>2</td>\n",
       "      <td>...</td>\n",
       "      <td>2</td>\n",
       "      <td>3</td>\n",
       "      <td>3</td>\n",
       "      <td>1</td>\n",
       "      <td>2</td>\n",
       "      <td>1</td>\n",
       "      <td>174</td>\n",
       "      <td>1</td>\n",
       "      <td>0</td>\n",
       "      <td>0</td>\n",
       "    </tr>\n",
       "    <tr>\n",
       "      <th>129584</th>\n",
       "      <td>0</td>\n",
       "      <td>0</td>\n",
       "      <td>69</td>\n",
       "      <td>1</td>\n",
       "      <td>2320</td>\n",
       "      <td>3</td>\n",
       "      <td>0</td>\n",
       "      <td>3</td>\n",
       "      <td>3</td>\n",
       "      <td>3</td>\n",
       "      <td>...</td>\n",
       "      <td>4</td>\n",
       "      <td>3</td>\n",
       "      <td>4</td>\n",
       "      <td>2</td>\n",
       "      <td>3</td>\n",
       "      <td>2</td>\n",
       "      <td>155</td>\n",
       "      <td>0</td>\n",
       "      <td>1</td>\n",
       "      <td>0</td>\n",
       "    </tr>\n",
       "    <tr>\n",
       "      <th>129585</th>\n",
       "      <td>0</td>\n",
       "      <td>0</td>\n",
       "      <td>66</td>\n",
       "      <td>1</td>\n",
       "      <td>2450</td>\n",
       "      <td>3</td>\n",
       "      <td>2</td>\n",
       "      <td>3</td>\n",
       "      <td>2</td>\n",
       "      <td>3</td>\n",
       "      <td>...</td>\n",
       "      <td>3</td>\n",
       "      <td>2</td>\n",
       "      <td>3</td>\n",
       "      <td>2</td>\n",
       "      <td>1</td>\n",
       "      <td>2</td>\n",
       "      <td>193</td>\n",
       "      <td>0</td>\n",
       "      <td>1</td>\n",
       "      <td>0</td>\n",
       "    </tr>\n",
       "    <tr>\n",
       "      <th>129586</th>\n",
       "      <td>0</td>\n",
       "      <td>0</td>\n",
       "      <td>38</td>\n",
       "      <td>1</td>\n",
       "      <td>4307</td>\n",
       "      <td>3</td>\n",
       "      <td>4</td>\n",
       "      <td>3</td>\n",
       "      <td>3</td>\n",
       "      <td>3</td>\n",
       "      <td>...</td>\n",
       "      <td>5</td>\n",
       "      <td>5</td>\n",
       "      <td>5</td>\n",
       "      <td>3</td>\n",
       "      <td>3</td>\n",
       "      <td>3</td>\n",
       "      <td>185</td>\n",
       "      <td>0</td>\n",
       "      <td>1</td>\n",
       "      <td>0</td>\n",
       "    </tr>\n",
       "  </tbody>\n",
       "</table>\n",
       "<p>129587 rows × 23 columns</p>\n",
       "</div>"
      ],
      "text/plain": [
       "        satisfaction  Customer Type  Age  Type of Travel  Flight Distance  \\\n",
       "0                  1              1   65               1              265   \n",
       "1                  1              1   47               1             2464   \n",
       "2                  1              1   15               1             2138   \n",
       "3                  1              1   60               1              623   \n",
       "4                  1              1   70               1              354   \n",
       "...              ...            ...  ...             ...              ...   \n",
       "129582             1              0   29               1             1731   \n",
       "129583             0              0   63               1             2087   \n",
       "129584             0              0   69               1             2320   \n",
       "129585             0              0   66               1             2450   \n",
       "129586             0              0   38               1             4307   \n",
       "\n",
       "        Seat comfort  Departure/Arrival time convenient  Food and drink  \\\n",
       "0                  0                                  0               0   \n",
       "1                  0                                  0               0   \n",
       "2                  0                                  0               0   \n",
       "3                  0                                  0               0   \n",
       "4                  0                                  0               0   \n",
       "...              ...                                ...             ...   \n",
       "129582             5                                  5               5   \n",
       "129583             2                                  3               2   \n",
       "129584             3                                  0               3   \n",
       "129585             3                                  2               3   \n",
       "129586             3                                  4               3   \n",
       "\n",
       "        Gate location  Inflight wifi service  ...  On-board service  \\\n",
       "0                   2                      2  ...                 3   \n",
       "1                   3                      0  ...                 4   \n",
       "2                   3                      2  ...                 3   \n",
       "3                   3                      3  ...                 1   \n",
       "4                   3                      4  ...                 2   \n",
       "...               ...                    ...  ...               ...   \n",
       "129582              3                      2  ...                 3   \n",
       "129583              4                      2  ...                 2   \n",
       "129584              3                      3  ...                 4   \n",
       "129585              2                      3  ...                 3   \n",
       "129586              3                      3  ...                 5   \n",
       "\n",
       "        Leg room service  Baggage handling  Checkin service  Cleanliness  \\\n",
       "0                      0                 3                5            3   \n",
       "1                      4                 4                2            3   \n",
       "2                      3                 4                4            4   \n",
       "3                      0                 1                4            1   \n",
       "4                      0                 2                4            2   \n",
       "...                  ...               ...              ...          ...   \n",
       "129582                 3                 4                4            4   \n",
       "129583                 3                 3                1            2   \n",
       "129584                 3                 4                2            3   \n",
       "129585                 2                 3                2            1   \n",
       "129586                 5                 5                3            3   \n",
       "\n",
       "        Online boarding  Departure Delay in Minutes  Business  Eco  Eco Plus  \n",
       "0                     2                           0         0    1         0  \n",
       "1                     2                         310         1    0         0  \n",
       "2                     2                           0         0    1         0  \n",
       "3                     3                           0         0    1         0  \n",
       "4                     5                           0         0    1         0  \n",
       "...                 ...                         ...       ...  ...       ...  \n",
       "129582                2                           0         0    1         0  \n",
       "129583                1                         174         1    0         0  \n",
       "129584                2                         155         0    1         0  \n",
       "129585                2                         193         0    1         0  \n",
       "129586                3                         185         0    1         0  \n",
       "\n",
       "[129587 rows x 23 columns]"
      ]
     },
     "execution_count": 22,
     "metadata": {},
     "output_type": "execute_result"
    }
   ],
   "source": [
    "customer_encoded['Customer Type'] = customer_encoded['Customer Type'].map({'Loyal Customer': 1, 'disloyal Customer': 0})\n",
    "customer_encoded['Type of Travel'] = customer_encoded['Type of Travel'].map({'Personal Travel': 1, 'Business travel': 0})\n",
    "customer_encoded['satisfaction'] = customer_encoded['satisfaction'].map({'satisfied': 1, 'dissatisfied': 0})\n",
    "\n",
    "customer_encoded"
   ]
  },
  {
   "cell_type": "markdown",
   "id": "3a85ea1a",
   "metadata": {
    "papermill": {
     "duration": 0.033355,
     "end_time": "2024-05-23T20:49:59.521266",
     "exception": false,
     "start_time": "2024-05-23T20:49:59.487911",
     "status": "completed"
    },
    "tags": []
   },
   "source": [
    "# Splitting Data"
   ]
  },
  {
   "cell_type": "code",
   "execution_count": 23,
   "id": "990591d4",
   "metadata": {
    "execution": {
     "iopub.execute_input": "2024-05-23T20:49:59.599097Z",
     "iopub.status.busy": "2024-05-23T20:49:59.598575Z",
     "iopub.status.idle": "2024-05-23T20:49:59.610938Z",
     "shell.execute_reply": "2024-05-23T20:49:59.609684Z"
    },
    "papermill": {
     "duration": 0.051756,
     "end_time": "2024-05-23T20:49:59.613934",
     "exception": false,
     "start_time": "2024-05-23T20:49:59.562178",
     "status": "completed"
    },
    "tags": []
   },
   "outputs": [],
   "source": [
    "X = customer_encoded.drop(columns = ['satisfaction'])\n",
    "y = customer_encoded['satisfaction']"
   ]
  },
  {
   "cell_type": "code",
   "execution_count": 24,
   "id": "767df6b9",
   "metadata": {
    "execution": {
     "iopub.execute_input": "2024-05-23T20:49:59.686818Z",
     "iopub.status.busy": "2024-05-23T20:49:59.686317Z",
     "iopub.status.idle": "2024-05-23T20:49:59.693858Z",
     "shell.execute_reply": "2024-05-23T20:49:59.692593Z"
    },
    "papermill": {
     "duration": 0.044994,
     "end_time": "2024-05-23T20:49:59.696444",
     "exception": false,
     "start_time": "2024-05-23T20:49:59.651450",
     "status": "completed"
    },
    "tags": []
   },
   "outputs": [
    {
     "data": {
      "text/plain": [
       "((129587, 22), (129587,))"
      ]
     },
     "execution_count": 24,
     "metadata": {},
     "output_type": "execute_result"
    }
   ],
   "source": [
    "X.shape, y.shape"
   ]
  },
  {
   "cell_type": "code",
   "execution_count": 25,
   "id": "3d336246",
   "metadata": {
    "execution": {
     "iopub.execute_input": "2024-05-23T20:49:59.778793Z",
     "iopub.status.busy": "2024-05-23T20:49:59.778303Z",
     "iopub.status.idle": "2024-05-23T20:49:59.883872Z",
     "shell.execute_reply": "2024-05-23T20:49:59.882632Z"
    },
    "papermill": {
     "duration": 0.155244,
     "end_time": "2024-05-23T20:49:59.886622",
     "exception": false,
     "start_time": "2024-05-23T20:49:59.731378",
     "status": "completed"
    },
    "tags": []
   },
   "outputs": [
    {
     "data": {
      "text/html": [
       "<div>\n",
       "<style scoped>\n",
       "    .dataframe tbody tr th:only-of-type {\n",
       "        vertical-align: middle;\n",
       "    }\n",
       "\n",
       "    .dataframe tbody tr th {\n",
       "        vertical-align: top;\n",
       "    }\n",
       "\n",
       "    .dataframe thead th {\n",
       "        text-align: right;\n",
       "    }\n",
       "</style>\n",
       "<table border=\"1\" class=\"dataframe\">\n",
       "  <thead>\n",
       "    <tr style=\"text-align: right;\">\n",
       "      <th></th>\n",
       "      <th>Customer Type</th>\n",
       "      <th>Age</th>\n",
       "      <th>Type of Travel</th>\n",
       "      <th>Flight Distance</th>\n",
       "      <th>Seat comfort</th>\n",
       "      <th>Departure/Arrival time convenient</th>\n",
       "      <th>Food and drink</th>\n",
       "      <th>Gate location</th>\n",
       "      <th>Inflight wifi service</th>\n",
       "      <th>Inflight entertainment</th>\n",
       "      <th>...</th>\n",
       "      <th>On-board service</th>\n",
       "      <th>Leg room service</th>\n",
       "      <th>Baggage handling</th>\n",
       "      <th>Checkin service</th>\n",
       "      <th>Cleanliness</th>\n",
       "      <th>Online boarding</th>\n",
       "      <th>Departure Delay in Minutes</th>\n",
       "      <th>Business</th>\n",
       "      <th>Eco</th>\n",
       "      <th>Eco Plus</th>\n",
       "    </tr>\n",
       "  </thead>\n",
       "  <tbody>\n",
       "    <tr>\n",
       "      <th>0</th>\n",
       "      <td>1</td>\n",
       "      <td>65</td>\n",
       "      <td>1</td>\n",
       "      <td>265</td>\n",
       "      <td>0</td>\n",
       "      <td>0</td>\n",
       "      <td>0</td>\n",
       "      <td>2</td>\n",
       "      <td>2</td>\n",
       "      <td>4</td>\n",
       "      <td>...</td>\n",
       "      <td>3</td>\n",
       "      <td>0</td>\n",
       "      <td>3</td>\n",
       "      <td>5</td>\n",
       "      <td>3</td>\n",
       "      <td>2</td>\n",
       "      <td>0</td>\n",
       "      <td>0</td>\n",
       "      <td>1</td>\n",
       "      <td>0</td>\n",
       "    </tr>\n",
       "    <tr>\n",
       "      <th>1</th>\n",
       "      <td>1</td>\n",
       "      <td>47</td>\n",
       "      <td>1</td>\n",
       "      <td>2464</td>\n",
       "      <td>0</td>\n",
       "      <td>0</td>\n",
       "      <td>0</td>\n",
       "      <td>3</td>\n",
       "      <td>0</td>\n",
       "      <td>2</td>\n",
       "      <td>...</td>\n",
       "      <td>4</td>\n",
       "      <td>4</td>\n",
       "      <td>4</td>\n",
       "      <td>2</td>\n",
       "      <td>3</td>\n",
       "      <td>2</td>\n",
       "      <td>310</td>\n",
       "      <td>1</td>\n",
       "      <td>0</td>\n",
       "      <td>0</td>\n",
       "    </tr>\n",
       "    <tr>\n",
       "      <th>2</th>\n",
       "      <td>1</td>\n",
       "      <td>15</td>\n",
       "      <td>1</td>\n",
       "      <td>2138</td>\n",
       "      <td>0</td>\n",
       "      <td>0</td>\n",
       "      <td>0</td>\n",
       "      <td>3</td>\n",
       "      <td>2</td>\n",
       "      <td>0</td>\n",
       "      <td>...</td>\n",
       "      <td>3</td>\n",
       "      <td>3</td>\n",
       "      <td>4</td>\n",
       "      <td>4</td>\n",
       "      <td>4</td>\n",
       "      <td>2</td>\n",
       "      <td>0</td>\n",
       "      <td>0</td>\n",
       "      <td>1</td>\n",
       "      <td>0</td>\n",
       "    </tr>\n",
       "    <tr>\n",
       "      <th>3</th>\n",
       "      <td>1</td>\n",
       "      <td>60</td>\n",
       "      <td>1</td>\n",
       "      <td>623</td>\n",
       "      <td>0</td>\n",
       "      <td>0</td>\n",
       "      <td>0</td>\n",
       "      <td>3</td>\n",
       "      <td>3</td>\n",
       "      <td>4</td>\n",
       "      <td>...</td>\n",
       "      <td>1</td>\n",
       "      <td>0</td>\n",
       "      <td>1</td>\n",
       "      <td>4</td>\n",
       "      <td>1</td>\n",
       "      <td>3</td>\n",
       "      <td>0</td>\n",
       "      <td>0</td>\n",
       "      <td>1</td>\n",
       "      <td>0</td>\n",
       "    </tr>\n",
       "    <tr>\n",
       "      <th>4</th>\n",
       "      <td>1</td>\n",
       "      <td>70</td>\n",
       "      <td>1</td>\n",
       "      <td>354</td>\n",
       "      <td>0</td>\n",
       "      <td>0</td>\n",
       "      <td>0</td>\n",
       "      <td>3</td>\n",
       "      <td>4</td>\n",
       "      <td>3</td>\n",
       "      <td>...</td>\n",
       "      <td>2</td>\n",
       "      <td>0</td>\n",
       "      <td>2</td>\n",
       "      <td>4</td>\n",
       "      <td>2</td>\n",
       "      <td>5</td>\n",
       "      <td>0</td>\n",
       "      <td>0</td>\n",
       "      <td>1</td>\n",
       "      <td>0</td>\n",
       "    </tr>\n",
       "    <tr>\n",
       "      <th>...</th>\n",
       "      <td>...</td>\n",
       "      <td>...</td>\n",
       "      <td>...</td>\n",
       "      <td>...</td>\n",
       "      <td>...</td>\n",
       "      <td>...</td>\n",
       "      <td>...</td>\n",
       "      <td>...</td>\n",
       "      <td>...</td>\n",
       "      <td>...</td>\n",
       "      <td>...</td>\n",
       "      <td>...</td>\n",
       "      <td>...</td>\n",
       "      <td>...</td>\n",
       "      <td>...</td>\n",
       "      <td>...</td>\n",
       "      <td>...</td>\n",
       "      <td>...</td>\n",
       "      <td>...</td>\n",
       "      <td>...</td>\n",
       "      <td>...</td>\n",
       "    </tr>\n",
       "    <tr>\n",
       "      <th>129582</th>\n",
       "      <td>0</td>\n",
       "      <td>29</td>\n",
       "      <td>1</td>\n",
       "      <td>1731</td>\n",
       "      <td>5</td>\n",
       "      <td>5</td>\n",
       "      <td>5</td>\n",
       "      <td>3</td>\n",
       "      <td>2</td>\n",
       "      <td>5</td>\n",
       "      <td>...</td>\n",
       "      <td>3</td>\n",
       "      <td>3</td>\n",
       "      <td>4</td>\n",
       "      <td>4</td>\n",
       "      <td>4</td>\n",
       "      <td>2</td>\n",
       "      <td>0</td>\n",
       "      <td>0</td>\n",
       "      <td>1</td>\n",
       "      <td>0</td>\n",
       "    </tr>\n",
       "    <tr>\n",
       "      <th>129583</th>\n",
       "      <td>0</td>\n",
       "      <td>63</td>\n",
       "      <td>1</td>\n",
       "      <td>2087</td>\n",
       "      <td>2</td>\n",
       "      <td>3</td>\n",
       "      <td>2</td>\n",
       "      <td>4</td>\n",
       "      <td>2</td>\n",
       "      <td>1</td>\n",
       "      <td>...</td>\n",
       "      <td>2</td>\n",
       "      <td>3</td>\n",
       "      <td>3</td>\n",
       "      <td>1</td>\n",
       "      <td>2</td>\n",
       "      <td>1</td>\n",
       "      <td>174</td>\n",
       "      <td>1</td>\n",
       "      <td>0</td>\n",
       "      <td>0</td>\n",
       "    </tr>\n",
       "    <tr>\n",
       "      <th>129584</th>\n",
       "      <td>0</td>\n",
       "      <td>69</td>\n",
       "      <td>1</td>\n",
       "      <td>2320</td>\n",
       "      <td>3</td>\n",
       "      <td>0</td>\n",
       "      <td>3</td>\n",
       "      <td>3</td>\n",
       "      <td>3</td>\n",
       "      <td>2</td>\n",
       "      <td>...</td>\n",
       "      <td>4</td>\n",
       "      <td>3</td>\n",
       "      <td>4</td>\n",
       "      <td>2</td>\n",
       "      <td>3</td>\n",
       "      <td>2</td>\n",
       "      <td>155</td>\n",
       "      <td>0</td>\n",
       "      <td>1</td>\n",
       "      <td>0</td>\n",
       "    </tr>\n",
       "    <tr>\n",
       "      <th>129585</th>\n",
       "      <td>0</td>\n",
       "      <td>66</td>\n",
       "      <td>1</td>\n",
       "      <td>2450</td>\n",
       "      <td>3</td>\n",
       "      <td>2</td>\n",
       "      <td>3</td>\n",
       "      <td>2</td>\n",
       "      <td>3</td>\n",
       "      <td>2</td>\n",
       "      <td>...</td>\n",
       "      <td>3</td>\n",
       "      <td>2</td>\n",
       "      <td>3</td>\n",
       "      <td>2</td>\n",
       "      <td>1</td>\n",
       "      <td>2</td>\n",
       "      <td>193</td>\n",
       "      <td>0</td>\n",
       "      <td>1</td>\n",
       "      <td>0</td>\n",
       "    </tr>\n",
       "    <tr>\n",
       "      <th>129586</th>\n",
       "      <td>0</td>\n",
       "      <td>38</td>\n",
       "      <td>1</td>\n",
       "      <td>4307</td>\n",
       "      <td>3</td>\n",
       "      <td>4</td>\n",
       "      <td>3</td>\n",
       "      <td>3</td>\n",
       "      <td>3</td>\n",
       "      <td>3</td>\n",
       "      <td>...</td>\n",
       "      <td>5</td>\n",
       "      <td>5</td>\n",
       "      <td>5</td>\n",
       "      <td>3</td>\n",
       "      <td>3</td>\n",
       "      <td>3</td>\n",
       "      <td>185</td>\n",
       "      <td>0</td>\n",
       "      <td>1</td>\n",
       "      <td>0</td>\n",
       "    </tr>\n",
       "  </tbody>\n",
       "</table>\n",
       "<p>129587 rows × 22 columns</p>\n",
       "</div>"
      ],
      "text/plain": [
       "        Customer Type  Age  Type of Travel  Flight Distance  Seat comfort  \\\n",
       "0                   1   65               1              265             0   \n",
       "1                   1   47               1             2464             0   \n",
       "2                   1   15               1             2138             0   \n",
       "3                   1   60               1              623             0   \n",
       "4                   1   70               1              354             0   \n",
       "...               ...  ...             ...              ...           ...   \n",
       "129582              0   29               1             1731             5   \n",
       "129583              0   63               1             2087             2   \n",
       "129584              0   69               1             2320             3   \n",
       "129585              0   66               1             2450             3   \n",
       "129586              0   38               1             4307             3   \n",
       "\n",
       "        Departure/Arrival time convenient  Food and drink  Gate location  \\\n",
       "0                                       0               0              2   \n",
       "1                                       0               0              3   \n",
       "2                                       0               0              3   \n",
       "3                                       0               0              3   \n",
       "4                                       0               0              3   \n",
       "...                                   ...             ...            ...   \n",
       "129582                                  5               5              3   \n",
       "129583                                  3               2              4   \n",
       "129584                                  0               3              3   \n",
       "129585                                  2               3              2   \n",
       "129586                                  4               3              3   \n",
       "\n",
       "        Inflight wifi service  Inflight entertainment  ...  On-board service  \\\n",
       "0                           2                       4  ...                 3   \n",
       "1                           0                       2  ...                 4   \n",
       "2                           2                       0  ...                 3   \n",
       "3                           3                       4  ...                 1   \n",
       "4                           4                       3  ...                 2   \n",
       "...                       ...                     ...  ...               ...   \n",
       "129582                      2                       5  ...                 3   \n",
       "129583                      2                       1  ...                 2   \n",
       "129584                      3                       2  ...                 4   \n",
       "129585                      3                       2  ...                 3   \n",
       "129586                      3                       3  ...                 5   \n",
       "\n",
       "        Leg room service  Baggage handling  Checkin service  Cleanliness  \\\n",
       "0                      0                 3                5            3   \n",
       "1                      4                 4                2            3   \n",
       "2                      3                 4                4            4   \n",
       "3                      0                 1                4            1   \n",
       "4                      0                 2                4            2   \n",
       "...                  ...               ...              ...          ...   \n",
       "129582                 3                 4                4            4   \n",
       "129583                 3                 3                1            2   \n",
       "129584                 3                 4                2            3   \n",
       "129585                 2                 3                2            1   \n",
       "129586                 5                 5                3            3   \n",
       "\n",
       "        Online boarding  Departure Delay in Minutes  Business  Eco  Eco Plus  \n",
       "0                     2                           0         0    1         0  \n",
       "1                     2                         310         1    0         0  \n",
       "2                     2                           0         0    1         0  \n",
       "3                     3                           0         0    1         0  \n",
       "4                     5                           0         0    1         0  \n",
       "...                 ...                         ...       ...  ...       ...  \n",
       "129582                2                           0         0    1         0  \n",
       "129583                1                         174         1    0         0  \n",
       "129584                2                         155         0    1         0  \n",
       "129585                2                         193         0    1         0  \n",
       "129586                3                         185         0    1         0  \n",
       "\n",
       "[129587 rows x 22 columns]"
      ]
     },
     "execution_count": 25,
     "metadata": {},
     "output_type": "execute_result"
    }
   ],
   "source": [
    "X"
   ]
  },
  {
   "cell_type": "code",
   "execution_count": 26,
   "id": "c3a02262",
   "metadata": {
    "execution": {
     "iopub.execute_input": "2024-05-23T20:49:59.958496Z",
     "iopub.status.busy": "2024-05-23T20:49:59.958078Z",
     "iopub.status.idle": "2024-05-23T20:50:00.001501Z",
     "shell.execute_reply": "2024-05-23T20:50:00.000268Z"
    },
    "papermill": {
     "duration": 0.082513,
     "end_time": "2024-05-23T20:50:00.004384",
     "exception": false,
     "start_time": "2024-05-23T20:49:59.921871",
     "status": "completed"
    },
    "tags": []
   },
   "outputs": [
    {
     "data": {
      "text/plain": [
       "((103669, 22), (103669,))"
      ]
     },
     "execution_count": 26,
     "metadata": {},
     "output_type": "execute_result"
    }
   ],
   "source": [
    "X_train, X_test, y_train, y_test = train_test_split(X, y,test_size=0.2, random_state=42)\n",
    "X_train.shape, y_train.shape"
   ]
  },
  {
   "cell_type": "markdown",
   "id": "29dc59e0",
   "metadata": {
    "papermill": {
     "duration": 0.039289,
     "end_time": "2024-05-23T20:50:00.080533",
     "exception": false,
     "start_time": "2024-05-23T20:50:00.041244",
     "status": "completed"
    },
    "tags": []
   },
   "source": [
    "# Scaling Data"
   ]
  },
  {
   "cell_type": "code",
   "execution_count": 27,
   "id": "aea85687",
   "metadata": {
    "execution": {
     "iopub.execute_input": "2024-05-23T20:50:00.159034Z",
     "iopub.status.busy": "2024-05-23T20:50:00.158638Z",
     "iopub.status.idle": "2024-05-23T20:50:00.164653Z",
     "shell.execute_reply": "2024-05-23T20:50:00.163058Z"
    },
    "papermill": {
     "duration": 0.047628,
     "end_time": "2024-05-23T20:50:00.167438",
     "exception": false,
     "start_time": "2024-05-23T20:50:00.119810",
     "status": "completed"
    },
    "tags": []
   },
   "outputs": [],
   "source": [
    "scaler = StandardScaler()"
   ]
  },
  {
   "cell_type": "code",
   "execution_count": 28,
   "id": "7609f5b1",
   "metadata": {
    "execution": {
     "iopub.execute_input": "2024-05-23T20:50:00.245488Z",
     "iopub.status.busy": "2024-05-23T20:50:00.245094Z",
     "iopub.status.idle": "2024-05-23T20:50:00.320188Z",
     "shell.execute_reply": "2024-05-23T20:50:00.318569Z"
    },
    "papermill": {
     "duration": 0.119655,
     "end_time": "2024-05-23T20:50:00.323098",
     "exception": false,
     "start_time": "2024-05-23T20:50:00.203443",
     "status": "completed"
    },
    "tags": []
   },
   "outputs": [],
   "source": [
    "X_train_scaled = scaler.fit_transform(X_train)\n",
    "X_test_scaled = scaler.transform(X_test)"
   ]
  },
  {
   "cell_type": "markdown",
   "id": "8dd7ecb1",
   "metadata": {
    "papermill": {
     "duration": 0.037202,
     "end_time": "2024-05-23T20:50:00.401334",
     "exception": false,
     "start_time": "2024-05-23T20:50:00.364132",
     "status": "completed"
    },
    "tags": []
   },
   "source": [
    "# Selecting Best Model"
   ]
  },
  {
   "cell_type": "code",
   "execution_count": 29,
   "id": "9921291e",
   "metadata": {
    "execution": {
     "iopub.execute_input": "2024-05-23T20:50:00.480360Z",
     "iopub.status.busy": "2024-05-23T20:50:00.479940Z",
     "iopub.status.idle": "2024-05-23T20:52:12.586686Z",
     "shell.execute_reply": "2024-05-23T20:52:12.585440Z"
    },
    "papermill": {
     "duration": 132.149729,
     "end_time": "2024-05-23T20:52:12.589878",
     "exception": false,
     "start_time": "2024-05-23T20:50:00.440149",
     "status": "completed"
    },
    "tags": []
   },
   "outputs": [
    {
     "name": "stdout",
     "output_type": "stream",
     "text": [
      "CV Score (Mean) K-Nearest Neighbors: 0.9180082725811682\n",
      "CV Score (Mean) Logistic Regression: 0.8295054295975\n",
      "CV Score (Mean) Random Forest Classifier: 0.9543836688585503\n",
      "CV Score (Mean) Decision Tree Classifier: 0.9339628933102011\n"
     ]
    },
    {
     "data": {
      "image/png": "[encoded data removed]",
      "text/plain": [
       "<Figure size 640x480 with 1 Axes>"
      ]
     },
     "metadata": {},
     "output_type": "display_data"
    }
   ],
   "source": [
    "models = {\n",
    "    'K-Nearest Neighbors': KNeighborsClassifier(),\n",
    "    'Logistic Regression': LogisticRegression(),\n",
    "    'Random Forest Classifier': RandomForestClassifier(),\n",
    "    'Decision Tree Classifier': DecisionTreeClassifier(),\n",
    "}\n",
    "results = []\n",
    "\n",
    "for name, model in models.items():\n",
    "    kf = KFold(n_splits=6, shuffle=True, random_state=42)\n",
    "    cv_results = cross_val_score(model, X_train_scaled, y_train, cv=kf, scoring='accuracy')\n",
    "    print(f'CV Score (Mean) {name}: {np.mean(cv_results)}')\n",
    "    results.append(cv_results)\n",
    "\n",
    "plt.boxplot(results, labels=models.keys())\n",
    "plt.title('Cross-validation Scores for Classification Models')\n",
    "plt.xlabel('Model')\n",
    "plt.ylabel('Accuracy')\n",
    "plt.xticks(rotation=45)\n",
    "plt.show()"
   ]
  },
  {
   "cell_type": "markdown",
   "id": "d7aa1d4c",
   "metadata": {
    "papermill": {
     "duration": 0.035802,
     "end_time": "2024-05-23T20:52:12.663517",
     "exception": false,
     "start_time": "2024-05-23T20:52:12.627715",
     "status": "completed"
    },
    "tags": []
   },
   "source": [
    "- Random Forest Classifier outperforms other classification models"
   ]
  },
  {
   "cell_type": "code",
   "execution_count": 30,
   "id": "c515bf3e",
   "metadata": {
    "execution": {
     "iopub.execute_input": "2024-05-23T20:52:12.739152Z",
     "iopub.status.busy": "2024-05-23T20:52:12.738726Z",
     "iopub.status.idle": "2024-05-23T20:52:12.745020Z",
     "shell.execute_reply": "2024-05-23T20:52:12.743467Z"
    },
    "papermill": {
     "duration": 0.047914,
     "end_time": "2024-05-23T20:52:12.747727",
     "exception": false,
     "start_time": "2024-05-23T20:52:12.699813",
     "status": "completed"
    },
    "tags": []
   },
   "outputs": [],
   "source": [
    "rf = RandomForestClassifier(random_state=42)"
   ]
  },
  {
   "cell_type": "code",
   "execution_count": 31,
   "id": "4d4af452",
   "metadata": {
    "execution": {
     "iopub.execute_input": "2024-05-23T20:52:12.824836Z",
     "iopub.status.busy": "2024-05-23T20:52:12.824316Z",
     "iopub.status.idle": "2024-05-23T20:52:32.664726Z",
     "shell.execute_reply": "2024-05-23T20:52:32.663403Z"
    },
    "papermill": {
     "duration": 19.88208,
     "end_time": "2024-05-23T20:52:32.667266",
     "exception": false,
     "start_time": "2024-05-23T20:52:12.785186",
     "status": "completed"
    },
    "tags": []
   },
   "outputs": [
    {
     "data": {
      "text/html": [
       "<style>#sk-container-id-1 {color: black;background-color: white;}#sk-container-id-1 pre{padding: 0;}#sk-container-id-1 div.sk-toggleable {background-color: white;}#sk-container-id-1 label.sk-toggleable__label {cursor: pointer;display: block;width: 100%;margin-bottom: 0;padding: 0.3em;box-sizing: border-box;text-align: center;}#sk-container-id-1 label.sk-toggleable__label-arrow:before {content: \"▸\";float: left;margin-right: 0.25em;color: #696969;}#sk-container-id-1 label.sk-toggleable__label-arrow:hover:before {color: black;}#sk-container-id-1 div.sk-estimator:hover label.sk-toggleable__label-arrow:before {color: black;}#sk-container-id-1 div.sk-toggleable__content {max-height: 0;max-width: 0;overflow: hidden;text-align: left;background-color: #f0f8ff;}#sk-container-id-1 div.sk-toggleable__content pre {margin: 0.2em;color: black;border-radius: 0.25em;background-color: #f0f8ff;}#sk-container-id-1 input.sk-toggleable__control:checked~div.sk-toggleable__content {max-height: 200px;max-width: 100%;overflow: auto;}#sk-container-id-1 input.sk-toggleable__control:checked~label.sk-toggleable__label-arrow:before {content: \"▾\";}#sk-container-id-1 div.sk-estimator input.sk-toggleable__control:checked~label.sk-toggleable__label {background-color: #d4ebff;}#sk-container-id-1 div.sk-label input.sk-toggleable__control:checked~label.sk-toggleable__label {background-color: #d4ebff;}#sk-container-id-1 input.sk-hidden--visually {border: 0;clip: rect(1px 1px 1px 1px);clip: rect(1px, 1px, 1px, 1px);height: 1px;margin: -1px;overflow: hidden;padding: 0;position: absolute;width: 1px;}#sk-container-id-1 div.sk-estimator {font-family: monospace;background-color: #f0f8ff;border: 1px dotted black;border-radius: 0.25em;box-sizing: border-box;margin-bottom: 0.5em;}#sk-container-id-1 div.sk-estimator:hover {background-color: #d4ebff;}#sk-container-id-1 div.sk-parallel-item::after {content: \"\";width: 100%;border-bottom: 1px solid gray;flex-grow: 1;}#sk-container-id-1 div.sk-label:hover label.sk-toggleable__label {background-color: #d4ebff;}#sk-container-id-1 div.sk-serial::before {content: \"\";position: absolute;border-left: 1px solid gray;box-sizing: border-box;top: 0;bottom: 0;left: 50%;z-index: 0;}#sk-container-id-1 div.sk-serial {display: flex;flex-direction: column;align-items: center;background-color: white;padding-right: 0.2em;padding-left: 0.2em;position: relative;}#sk-container-id-1 div.sk-item {position: relative;z-index: 1;}#sk-container-id-1 div.sk-parallel {display: flex;align-items: stretch;justify-content: center;background-color: white;position: relative;}#sk-container-id-1 div.sk-item::before, #sk-container-id-1 div.sk-parallel-item::before {content: \"\";position: absolute;border-left: 1px solid gray;box-sizing: border-box;top: 0;bottom: 0;left: 50%;z-index: -1;}#sk-container-id-1 div.sk-parallel-item {display: flex;flex-direction: column;z-index: 1;position: relative;background-color: white;}#sk-container-id-1 div.sk-parallel-item:first-child::after {align-self: flex-end;width: 50%;}#sk-container-id-1 div.sk-parallel-item:last-child::after {align-self: flex-start;width: 50%;}#sk-container-id-1 div.sk-parallel-item:only-child::after {width: 0;}#sk-container-id-1 div.sk-dashed-wrapped {border: 1px dashed gray;margin: 0 0.4em 0.5em 0.4em;box-sizing: border-box;padding-bottom: 0.4em;background-color: white;}#sk-container-id-1 div.sk-label label {font-family: monospace;font-weight: bold;display: inline-block;line-height: 1.2em;}#sk-container-id-1 div.sk-label-container {text-align: center;}#sk-container-id-1 div.sk-container {/* jupyter's `normalize.less` sets `[hidden] { display: none; }` but bootstrap.min.css set `[hidden] { display: none !important; }` so we also need the `!important` here to be able to override the default hidden behavior on the sphinx rendered scikit-learn.org. See: https://github.com/scikit-learn/scikit-learn/issues/21755 */display: inline-block !important;position: relative;}#sk-container-id-1 div.sk-text-repr-fallback {display: none;}</style><div id=\"sk-container-id-1\" class=\"sk-top-container\"><div class=\"sk-text-repr-fallback\"><pre>RandomForestClassifier(random_state=42)</pre><b>In a Jupyter environment, please rerun this cell to show the HTML representation or trust the notebook. <br />On GitHub, the HTML representation is unable to render, please try loading this page with nbviewer.org.</b></div><div class=\"sk-container\" hidden><div class=\"sk-item\"><div class=\"sk-estimator sk-toggleable\"><input class=\"sk-toggleable__control sk-hidden--visually\" id=\"sk-estimator-id-1\" type=\"checkbox\" checked><label for=\"sk-estimator-id-1\" class=\"sk-toggleable__label sk-toggleable__label-arrow\">RandomForestClassifier</label><div class=\"sk-toggleable__content\"><pre>RandomForestClassifier(random_state=42)</pre></div></div></div></div></div>"
      ],
      "text/plain": [
       "RandomForestClassifier(random_state=42)"
      ]
     },
     "execution_count": 31,
     "metadata": {},
     "output_type": "execute_result"
    }
   ],
   "source": [
    "rf.fit(X_train,y_train)"
   ]
  },
  {
   "cell_type": "code",
   "execution_count": 32,
   "id": "299709d6",
   "metadata": {
    "execution": {
     "iopub.execute_input": "2024-05-23T20:52:32.744808Z",
     "iopub.status.busy": "2024-05-23T20:52:32.744376Z",
     "iopub.status.idle": "2024-05-23T20:52:33.401235Z",
     "shell.execute_reply": "2024-05-23T20:52:33.399662Z"
    },
    "papermill": {
     "duration": 0.699801,
     "end_time": "2024-05-23T20:52:33.404530",
     "exception": false,
     "start_time": "2024-05-23T20:52:32.704729",
     "status": "completed"
    },
    "tags": []
   },
   "outputs": [],
   "source": [
    "y_pred = rf.predict(X_test)"
   ]
  },
  {
   "cell_type": "markdown",
   "id": "23504fb2",
   "metadata": {
    "papermill": {
     "duration": 0.039734,
     "end_time": "2024-05-23T20:52:33.483976",
     "exception": false,
     "start_time": "2024-05-23T20:52:33.444242",
     "status": "completed"
    },
    "tags": []
   },
   "source": [
    "## Model Evaluation"
   ]
  },
  {
   "cell_type": "code",
   "execution_count": 33,
   "id": "b3c5a240",
   "metadata": {
    "execution": {
     "iopub.execute_input": "2024-05-23T20:52:33.563518Z",
     "iopub.status.busy": "2024-05-23T20:52:33.563094Z",
     "iopub.status.idle": "2024-05-23T20:52:34.484592Z",
     "shell.execute_reply": "2024-05-23T20:52:34.483218Z"
    },
    "papermill": {
     "duration": 0.964192,
     "end_time": "2024-05-23T20:52:34.487287",
     "exception": false,
     "start_time": "2024-05-23T20:52:33.523095",
     "status": "completed"
    },
    "tags": []
   },
   "outputs": [
    {
     "data": {
      "text/plain": [
       "<Figure size 800x600 with 0 Axes>"
      ]
     },
     "metadata": {},
     "output_type": "display_data"
    },
    {
     "data": {
      "image/png": "[encoded data removed]",
      "text/plain": [
       "<Figure size 640x480 with 2 Axes>"
      ]
     },
     "metadata": {},
     "output_type": "display_data"
    }
   ],
   "source": [
    "plt.figure(figsize=(8, 6))\n",
    "ConfusionMatrixDisplay.from_estimator(rf, X_test, y_test, cmap='Reds', values_format='d')\n",
    "plt.title('Confusion Matrix')\n",
    "plt.xlabel('Predicted Label')\n",
    "plt.ylabel('True Label')\n",
    "plt.show()"
   ]
  },
  {
   "cell_type": "code",
   "execution_count": 34,
   "id": "a3a2f1bb",
   "metadata": {
    "execution": {
     "iopub.execute_input": "2024-05-23T20:52:34.565638Z",
     "iopub.status.busy": "2024-05-23T20:52:34.565191Z",
     "iopub.status.idle": "2024-05-23T20:52:34.628031Z",
     "shell.execute_reply": "2024-05-23T20:52:34.626419Z"
    },
    "papermill": {
     "duration": 0.10626,
     "end_time": "2024-05-23T20:52:34.631125",
     "exception": false,
     "start_time": "2024-05-23T20:52:34.524865",
     "status": "completed"
    },
    "tags": []
   },
   "outputs": [
    {
     "name": "stdout",
     "output_type": "stream",
     "text": [
      "              precision    recall  f1-score   support\n",
      "\n",
      "           0       0.94      0.96      0.95     11794\n",
      "           1       0.97      0.95      0.96     14124\n",
      "\n",
      "    accuracy                           0.95     25918\n",
      "   macro avg       0.95      0.96      0.95     25918\n",
      "weighted avg       0.95      0.95      0.95     25918\n",
      "\n"
     ]
    }
   ],
   "source": [
    "report = classification_report(y_test, y_pred)\n",
    "print(report)"
   ]
  },
  {
   "cell_type": "markdown",
   "id": "2d7a81b8",
   "metadata": {
    "papermill": {
     "duration": 0.038163,
     "end_time": "2024-05-23T20:52:34.708408",
     "exception": false,
     "start_time": "2024-05-23T20:52:34.670245",
     "status": "completed"
    },
    "tags": []
   },
   "source": [
    "- The Random Forest Model achieves high precision, recall, and F1-score for both classes, indicating that it performs well in classifying both dissatisfied and satisfied customers.\n",
    "- The overall accuracy of 96% suggests that the model is accurate in predicting the customer satisfaction status."
   ]
  },
  {
   "cell_type": "markdown",
   "id": "a2f10eb3",
   "metadata": {
    "papermill": {
     "duration": 0.037368,
     "end_time": "2024-05-23T20:52:34.783728",
     "exception": false,
     "start_time": "2024-05-23T20:52:34.746360",
     "status": "completed"
    },
    "tags": []
   },
   "source": [
    "- Let's try Extreme Gradient Boosting "
   ]
  },
  {
   "cell_type": "markdown",
   "id": "5d271174",
   "metadata": {
    "papermill": {
     "duration": 0.039738,
     "end_time": "2024-05-23T20:52:34.861170",
     "exception": false,
     "start_time": "2024-05-23T20:52:34.821432",
     "status": "completed"
    },
    "tags": []
   },
   "source": [
    "# Extreme Gradient Boosting (XGBoost Classifier)"
   ]
  },
  {
   "cell_type": "code",
   "execution_count": 35,
   "id": "c0c21911",
   "metadata": {
    "execution": {
     "iopub.execute_input": "2024-05-23T20:52:34.942477Z",
     "iopub.status.busy": "2024-05-23T20:52:34.942035Z",
     "iopub.status.idle": "2024-05-23T20:52:36.040109Z",
     "shell.execute_reply": "2024-05-23T20:52:36.038956Z"
    },
    "papermill": {
     "duration": 1.143081,
     "end_time": "2024-05-23T20:52:36.042828",
     "exception": false,
     "start_time": "2024-05-23T20:52:34.899747",
     "status": "completed"
    },
    "tags": []
   },
   "outputs": [],
   "source": [
    "customer_dmatrix = xgb.DMatrix(data=X_train_scaled,label=y_train)\n",
    "params={'binary':'logistic'}\n",
    "cv_results = xgb.cv(dtrain=customer_dmatrix,\n",
    "                    params=params,\n",
    "                    nfold=4,\n",
    "                    metrics=\"error\",\n",
    "                    as_pandas=True,\n",
    "                    seed=42)"
   ]
  },
  {
   "cell_type": "code",
   "execution_count": 36,
   "id": "064f29d2",
   "metadata": {
    "execution": {
     "iopub.execute_input": "2024-05-23T20:52:36.121820Z",
     "iopub.status.busy": "2024-05-23T20:52:36.121358Z",
     "iopub.status.idle": "2024-05-23T20:52:36.129944Z",
     "shell.execute_reply": "2024-05-23T20:52:36.128590Z"
    },
    "papermill": {
     "duration": 0.051324,
     "end_time": "2024-05-23T20:52:36.133047",
     "exception": false,
     "start_time": "2024-05-23T20:52:36.081723",
     "status": "completed"
    },
    "tags": []
   },
   "outputs": [
    {
     "name": "stdout",
     "output_type": "stream",
     "text": [
      "Mean Accuracy (CV): 0.9255901202656526\n"
     ]
    }
   ],
   "source": [
    "cv_results['test-accuracy-mean'] = 1 - cv_results['test-error-mean']\n",
    "mean_accuracy = cv_results['test-accuracy-mean'].iloc[-1]\n",
    "print(\"Mean Accuracy (CV):\", mean_accuracy)"
   ]
  },
  {
   "cell_type": "markdown",
   "id": "80b2ef06",
   "metadata": {
    "papermill": {
     "duration": 0.037937,
     "end_time": "2024-05-23T20:52:36.209295",
     "exception": false,
     "start_time": "2024-05-23T20:52:36.171358",
     "status": "completed"
    },
    "tags": []
   },
   "source": [
    "- Now, let's proceed with hyperparameter tuning to improve the accuracy."
   ]
  },
  {
   "cell_type": "markdown",
   "id": "ef4a8ae9",
   "metadata": {
    "papermill": {
     "duration": 0.038273,
     "end_time": "2024-05-23T20:52:36.285238",
     "exception": false,
     "start_time": "2024-05-23T20:52:36.246965",
     "status": "completed"
    },
    "tags": []
   },
   "source": [
    "## Hyperparameter tuning"
   ]
  },
  {
   "cell_type": "markdown",
   "id": "bac61df7",
   "metadata": {
    "papermill": {
     "duration": 0.038488,
     "end_time": "2024-05-23T20:52:36.362408",
     "exception": false,
     "start_time": "2024-05-23T20:52:36.323920",
     "status": "completed"
    },
    "tags": []
   },
   "source": [
    "### GridSearchCV"
   ]
  },
  {
   "cell_type": "code",
   "execution_count": 37,
   "id": "0435e393",
   "metadata": {
    "execution": {
     "iopub.execute_input": "2024-05-23T20:52:36.446045Z",
     "iopub.status.busy": "2024-05-23T20:52:36.445635Z",
     "iopub.status.idle": "2024-05-23T20:53:40.857067Z",
     "shell.execute_reply": "2024-05-23T20:53:40.855658Z"
    },
    "papermill": {
     "duration": 64.486281,
     "end_time": "2024-05-23T20:53:40.891313",
     "exception": false,
     "start_time": "2024-05-23T20:52:36.405032",
     "status": "completed"
    },
    "tags": []
   },
   "outputs": [
    {
     "name": "stdout",
     "output_type": "stream",
     "text": [
      "Fitting 4 folds for each of 9 candidates, totalling 36 fits\n",
      "Best parameters found: {'learning_rate': 0.5, 'maxsubsample': 0.3, 'n_estimators': 200}\n",
      "Best Accuracy Score: 0.9540846358547117\n"
     ]
    }
   ],
   "source": [
    "xgb_param_grid = {\n",
    "    'learning_rate': [0.01, 0.1, 0.5],\n",
    "    'n_estimators': [200],\n",
    "    'max'\n",
    "    'subsample': [0.3, 0.5, 0.9]\n",
    "}\n",
    "xgboost_model = xgb.XGBClassifier(objective = 'binary:logistic',seed=42)\n",
    "grid_xgboost = GridSearchCV(\n",
    "    estimator=xgboost_model,\n",
    "    param_grid=xgb_param_grid,\n",
    "    scoring='accuracy',\n",
    "    cv=4,\n",
    "    verbose=1\n",
    ")\n",
    "grid_xgboost.fit(X_train_scaled, y_train)\n",
    "print(\"Best parameters found:\", grid_xgboost.best_params_)\n",
    "print(\"Best Accuracy Score:\", grid_xgboost.best_score_)"
   ]
  },
  {
   "cell_type": "markdown",
   "id": "daf3046c",
   "metadata": {
    "papermill": {
     "duration": 0.037908,
     "end_time": "2024-05-23T20:53:40.967646",
     "exception": false,
     "start_time": "2024-05-23T20:53:40.929738",
     "status": "completed"
    },
    "tags": []
   },
   "source": [
    "### RandomizedSearchCV"
   ]
  },
  {
   "cell_type": "code",
   "execution_count": 38,
   "id": "f6242d2e",
   "metadata": {
    "execution": {
     "iopub.execute_input": "2024-05-23T20:53:41.047304Z",
     "iopub.status.busy": "2024-05-23T20:53:41.046896Z",
     "iopub.status.idle": "2024-05-23T20:54:59.329620Z",
     "shell.execute_reply": "2024-05-23T20:54:59.328175Z"
    },
    "papermill": {
     "duration": 78.361295,
     "end_time": "2024-05-23T20:54:59.367025",
     "exception": false,
     "start_time": "2024-05-23T20:53:41.005730",
     "status": "completed"
    },
    "tags": []
   },
   "outputs": [
    {
     "name": "stdout",
     "output_type": "stream",
     "text": [
      "Fitting 3 folds for each of 15 candidates, totalling 45 fits\n",
      "Best parameters found: {'subsample': 0.7000000000000002, 'n_estimators': 200, 'max_depth': 9, 'learning_rate': 0.11, 'colsample_bytree': 0.8000000000000003}\n",
      "Best Accuracy Score: 0.9563032393487019\n"
     ]
    }
   ],
   "source": [
    "xgb_param_grid = {\n",
    "    'learning_rate': np.arange(0.01, 0.2, 0.01), \n",
    "    'n_estimators': [200],\n",
    "    'subsample': np.arange(0.3, 1.0, 0.1), \n",
    "    'max_depth': np.arange(3, 10, 1), \n",
    "    'colsample_bytree': np.arange(0.3, 1.0, 0.1) \n",
    "}\n",
    "xgboost_model = xgb.XGBClassifier(objective='binary:logistic', seed=42)\n",
    "random_xgboost = RandomizedSearchCV(\n",
    "    estimator=xgboost_model,\n",
    "    param_distributions=xgb_param_grid,\n",
    "    n_iter=15, \n",
    "    scoring='accuracy',\n",
    "    cv=3,\n",
    "    verbose=1,\n",
    "    random_state=42\n",
    ")\n",
    "\n",
    "random_xgboost.fit(X_train_scaled, y_train)\n",
    "print(\"Best parameters found:\", random_xgboost.best_params_)\n",
    "print(\"Best Accuracy Score:\", random_xgboost.best_score_)\n"
   ]
  },
  {
   "cell_type": "code",
   "execution_count": 39,
   "id": "cf6a1e85",
   "metadata": {
    "execution": {
     "iopub.execute_input": "2024-05-23T20:54:59.446092Z",
     "iopub.status.busy": "2024-05-23T20:54:59.445661Z",
     "iopub.status.idle": "2024-05-23T20:55:03.000803Z",
     "shell.execute_reply": "2024-05-23T20:55:02.999821Z"
    },
    "papermill": {
     "duration": 3.598621,
     "end_time": "2024-05-23T20:55:03.003708",
     "exception": false,
     "start_time": "2024-05-23T20:54:59.405087",
     "status": "completed"
    },
    "tags": []
   },
   "outputs": [
    {
     "data": {
      "text/html": [
       "<style>#sk-container-id-2 {color: black;background-color: white;}#sk-container-id-2 pre{padding: 0;}#sk-container-id-2 div.sk-toggleable {background-color: white;}#sk-container-id-2 label.sk-toggleable__label {cursor: pointer;display: block;width: 100%;margin-bottom: 0;padding: 0.3em;box-sizing: border-box;text-align: center;}#sk-container-id-2 label.sk-toggleable__label-arrow:before {content: \"▸\";float: left;margin-right: 0.25em;color: #696969;}#sk-container-id-2 label.sk-toggleable__label-arrow:hover:before {color: black;}#sk-container-id-2 div.sk-estimator:hover label.sk-toggleable__label-arrow:before {color: black;}#sk-container-id-2 div.sk-toggleable__content {max-height: 0;max-width: 0;overflow: hidden;text-align: left;background-color: #f0f8ff;}#sk-container-id-2 div.sk-toggleable__content pre {margin: 0.2em;color: black;border-radius: 0.25em;background-color: #f0f8ff;}#sk-container-id-2 input.sk-toggleable__control:checked~div.sk-toggleable__content {max-height: 200px;max-width: 100%;overflow: auto;}#sk-container-id-2 input.sk-toggleable__control:checked~label.sk-toggleable__label-arrow:before {content: \"▾\";}#sk-container-id-2 div.sk-estimator input.sk-toggleable__control:checked~label.sk-toggleable__label {background-color: #d4ebff;}#sk-container-id-2 div.sk-label input.sk-toggleable__control:checked~label.sk-toggleable__label {background-color: #d4ebff;}#sk-container-id-2 input.sk-hidden--visually {border: 0;clip: rect(1px 1px 1px 1px);clip: rect(1px, 1px, 1px, 1px);height: 1px;margin: -1px;overflow: hidden;padding: 0;position: absolute;width: 1px;}#sk-container-id-2 div.sk-estimator {font-family: monospace;background-color: #f0f8ff;border: 1px dotted black;border-radius: 0.25em;box-sizing: border-box;margin-bottom: 0.5em;}#sk-container-id-2 div.sk-estimator:hover {background-color: #d4ebff;}#sk-container-id-2 div.sk-parallel-item::after {content: \"\";width: 100%;border-bottom: 1px solid gray;flex-grow: 1;}#sk-container-id-2 div.sk-label:hover label.sk-toggleable__label {background-color: #d4ebff;}#sk-container-id-2 div.sk-serial::before {content: \"\";position: absolute;border-left: 1px solid gray;box-sizing: border-box;top: 0;bottom: 0;left: 50%;z-index: 0;}#sk-container-id-2 div.sk-serial {display: flex;flex-direction: column;align-items: center;background-color: white;padding-right: 0.2em;padding-left: 0.2em;position: relative;}#sk-container-id-2 div.sk-item {position: relative;z-index: 1;}#sk-container-id-2 div.sk-parallel {display: flex;align-items: stretch;justify-content: center;background-color: white;position: relative;}#sk-container-id-2 div.sk-item::before, #sk-container-id-2 div.sk-parallel-item::before {content: \"\";position: absolute;border-left: 1px solid gray;box-sizing: border-box;top: 0;bottom: 0;left: 50%;z-index: -1;}#sk-container-id-2 div.sk-parallel-item {display: flex;flex-direction: column;z-index: 1;position: relative;background-color: white;}#sk-container-id-2 div.sk-parallel-item:first-child::after {align-self: flex-end;width: 50%;}#sk-container-id-2 div.sk-parallel-item:last-child::after {align-self: flex-start;width: 50%;}#sk-container-id-2 div.sk-parallel-item:only-child::after {width: 0;}#sk-container-id-2 div.sk-dashed-wrapped {border: 1px dashed gray;margin: 0 0.4em 0.5em 0.4em;box-sizing: border-box;padding-bottom: 0.4em;background-color: white;}#sk-container-id-2 div.sk-label label {font-family: monospace;font-weight: bold;display: inline-block;line-height: 1.2em;}#sk-container-id-2 div.sk-label-container {text-align: center;}#sk-container-id-2 div.sk-container {/* jupyter's `normalize.less` sets `[hidden] { display: none; }` but bootstrap.min.css set `[hidden] { display: none !important; }` so we also need the `!important` here to be able to override the default hidden behavior on the sphinx rendered scikit-learn.org. See: https://github.com/scikit-learn/scikit-learn/issues/21755 */display: inline-block !important;position: relative;}#sk-container-id-2 div.sk-text-repr-fallback {display: none;}</style><div id=\"sk-container-id-2\" class=\"sk-top-container\"><div class=\"sk-text-repr-fallback\"><pre>XGBClassifier(base_score=None, booster=None, callbacks=None,\n",
       "              colsample_bylevel=None, colsample_bynode=None,\n",
       "              colsample_bytree=0.8, device=None, early_stopping_rounds=None,\n",
       "              enable_categorical=False, eval_metric=None, feature_types=None,\n",
       "              gamma=None, grow_policy=None, importance_type=None,\n",
       "              interaction_constraints=None, learning_rate=0.11, max_bin=None,\n",
       "              max_cat_threshold=None, max_cat_to_onehot=None,\n",
       "              max_delta_step=None, max_depth=9, max_leaves=None,\n",
       "              min_child_weight=None, missing=nan, monotone_constraints=None,\n",
       "              multi_strategy=None, n_estimators=200, n_jobs=None,\n",
       "              num_parallel_tree=None, random_state=None, ...)</pre><b>In a Jupyter environment, please rerun this cell to show the HTML representation or trust the notebook. <br />On GitHub, the HTML representation is unable to render, please try loading this page with nbviewer.org.</b></div><div class=\"sk-container\" hidden><div class=\"sk-item\"><div class=\"sk-estimator sk-toggleable\"><input class=\"sk-toggleable__control sk-hidden--visually\" id=\"sk-estimator-id-2\" type=\"checkbox\" checked><label for=\"sk-estimator-id-2\" class=\"sk-toggleable__label sk-toggleable__label-arrow\">XGBClassifier</label><div class=\"sk-toggleable__content\"><pre>XGBClassifier(base_score=None, booster=None, callbacks=None,\n",
       "              colsample_bylevel=None, colsample_bynode=None,\n",
       "              colsample_bytree=0.8, device=None, early_stopping_rounds=None,\n",
       "              enable_categorical=False, eval_metric=None, feature_types=None,\n",
       "              gamma=None, grow_policy=None, importance_type=None,\n",
       "              interaction_constraints=None, learning_rate=0.11, max_bin=None,\n",
       "              max_cat_threshold=None, max_cat_to_onehot=None,\n",
       "              max_delta_step=None, max_depth=9, max_leaves=None,\n",
       "              min_child_weight=None, missing=nan, monotone_constraints=None,\n",
       "              multi_strategy=None, n_estimators=200, n_jobs=None,\n",
       "              num_parallel_tree=None, random_state=None, ...)</pre></div></div></div></div></div>"
      ],
      "text/plain": [
       "XGBClassifier(base_score=None, booster=None, callbacks=None,\n",
       "              colsample_bylevel=None, colsample_bynode=None,\n",
       "              colsample_bytree=0.8, device=None, early_stopping_rounds=None,\n",
       "              enable_categorical=False, eval_metric=None, feature_types=None,\n",
       "              gamma=None, grow_policy=None, importance_type=None,\n",
       "              interaction_constraints=None, learning_rate=0.11, max_bin=None,\n",
       "              max_cat_threshold=None, max_cat_to_onehot=None,\n",
       "              max_delta_step=None, max_depth=9, max_leaves=None,\n",
       "              min_child_weight=None, missing=nan, monotone_constraints=None,\n",
       "              multi_strategy=None, n_estimators=200, n_jobs=None,\n",
       "              num_parallel_tree=None, random_state=None, ...)"
      ]
     },
     "execution_count": 39,
     "metadata": {},
     "output_type": "execute_result"
    }
   ],
   "source": [
    "xgb_model = xgb.XGBClassifier(objective = 'binary:logistic',\n",
    "                              subsample= 0.7,\n",
    "                              n_estimators= 200,\n",
    "                              max_depth = 9,\n",
    "                              learning_rate = 0.11,\n",
    "                              colsample_bytree=0.8)\n",
    "xgb_model.fit(X_train_scaled, y_train)"
   ]
  },
  {
   "cell_type": "code",
   "execution_count": 40,
   "id": "3148c769",
   "metadata": {
    "execution": {
     "iopub.execute_input": "2024-05-23T20:55:03.091053Z",
     "iopub.status.busy": "2024-05-23T20:55:03.090385Z",
     "iopub.status.idle": "2024-05-23T20:55:03.272064Z",
     "shell.execute_reply": "2024-05-23T20:55:03.271129Z"
    },
    "papermill": {
     "duration": 0.228788,
     "end_time": "2024-05-23T20:55:03.274998",
     "exception": false,
     "start_time": "2024-05-23T20:55:03.046210",
     "status": "completed"
    },
    "tags": []
   },
   "outputs": [],
   "source": [
    "y_pred = xgb_model.predict(X_test_scaled)"
   ]
  },
  {
   "cell_type": "markdown",
   "id": "cdf8fccf",
   "metadata": {
    "papermill": {
     "duration": 0.043988,
     "end_time": "2024-05-23T20:55:03.371582",
     "exception": false,
     "start_time": "2024-05-23T20:55:03.327594",
     "status": "completed"
    },
    "tags": []
   },
   "source": [
    "## Model Evaluation"
   ]
  },
  {
   "cell_type": "code",
   "execution_count": 41,
   "id": "673b3941",
   "metadata": {
    "execution": {
     "iopub.execute_input": "2024-05-23T20:55:03.456862Z",
     "iopub.status.busy": "2024-05-23T20:55:03.456319Z",
     "iopub.status.idle": "2024-05-23T20:55:03.907004Z",
     "shell.execute_reply": "2024-05-23T20:55:03.905760Z"
    },
    "papermill": {
     "duration": 0.497762,
     "end_time": "2024-05-23T20:55:03.909899",
     "exception": false,
     "start_time": "2024-05-23T20:55:03.412137",
     "status": "completed"
    },
    "tags": []
   },
   "outputs": [
    {
     "data": {
      "text/plain": [
       "<Figure size 800x600 with 0 Axes>"
      ]
     },
     "metadata": {},
     "output_type": "display_data"
    },
    {
     "data": {
      "image/png": "[encoded data removed]",
      "text/plain": [
       "<Figure size 640x480 with 2 Axes>"
      ]
     },
     "metadata": {},
     "output_type": "display_data"
    }
   ],
   "source": [
    "plt.figure(figsize=(8, 6))\n",
    "ConfusionMatrixDisplay.from_estimator(xgb_model, X_test_scaled, y_test, cmap='Reds', values_format='d')\n",
    "plt.title('Confusion Matrix')\n",
    "plt.xlabel('Predicted Label')\n",
    "plt.ylabel('True Label')\n",
    "plt.show()"
   ]
  },
  {
   "cell_type": "code",
   "execution_count": 42,
   "id": "8b7b2968",
   "metadata": {
    "execution": {
     "iopub.execute_input": "2024-05-23T20:55:03.996186Z",
     "iopub.status.busy": "2024-05-23T20:55:03.995781Z",
     "iopub.status.idle": "2024-05-23T20:55:04.059599Z",
     "shell.execute_reply": "2024-05-23T20:55:04.057919Z"
    },
    "papermill": {
     "duration": 0.109977,
     "end_time": "2024-05-23T20:55:04.062364",
     "exception": false,
     "start_time": "2024-05-23T20:55:03.952387",
     "status": "completed"
    },
    "tags": []
   },
   "outputs": [
    {
     "name": "stdout",
     "output_type": "stream",
     "text": [
      "              precision    recall  f1-score   support\n",
      "\n",
      "           0       0.95      0.96      0.95     11794\n",
      "           1       0.97      0.95      0.96     14124\n",
      "\n",
      "    accuracy                           0.96     25918\n",
      "   macro avg       0.96      0.96      0.96     25918\n",
      "weighted avg       0.96      0.96      0.96     25918\n",
      "\n"
     ]
    }
   ],
   "source": [
    "report = classification_report(y_test, y_pred)\n",
    "print(report)"
   ]
  },
  {
   "cell_type": "markdown",
   "id": "cc677410",
   "metadata": {
    "papermill": {
     "duration": 0.0416,
     "end_time": "2024-05-23T20:55:04.145022",
     "exception": false,
     "start_time": "2024-05-23T20:55:04.103422",
     "status": "completed"
    },
    "tags": []
   },
   "source": [
    "# Conclusion"
   ]
  },
  {
   "cell_type": "markdown",
   "id": "5ec1c26c",
   "metadata": {
    "papermill": {
     "duration": 0.041046,
     "end_time": "2024-05-23T20:55:04.226634",
     "exception": false,
     "start_time": "2024-05-23T20:55:04.185588",
     "status": "completed"
    },
    "tags": []
   },
   "source": [
    "- Both Random Forest and XGBoost models exhibit comparable performance metrics, including accuracy, precision, recall, and F1-score.\n",
    "- However, the XGBoost model demonstrates a slightly lower number of false positives and false negatives compared to the Random Forest model.\n",
    "- This suggests that the XGBoost model outperforms the Random Forest model slightly in terms of minimizing classification errors."
   ]
  },
  {
   "cell_type": "code",
   "execution_count": null,
   "id": "5bc13d90",
   "metadata": {
    "papermill": {
     "duration": 0.039827,
     "end_time": "2024-05-23T20:55:04.308109",
     "exception": false,
     "start_time": "2024-05-23T20:55:04.268282",
     "status": "completed"
    },
    "tags": []
   },
   "outputs": [],
   "source": []
  }
 ],
 "metadata": {
  "kaggle": {
   "accelerator": "none",
   "dataSources": [
    {
     "datasetId": 4952797,
     "sourceId": 8339222,
     "sourceType": "datasetVersion"
    }
   ],
   "isGpuEnabled": false,
   "isInternetEnabled": true,
   "language": "python",
   "sourceType": "notebook"
  },
  "kernelspec": {
   "display_name": "Python 3 (ipykernel)",
   "language": "python",
   "name": "python3"
  },
  "language_info": {
   "codemirror_mode": {
    "name": "ipython",
    "version": 3
   },
   "file_extension": ".py",
   "mimetype": "text/x-python",
   "name": "python",
   "nbconvert_exporter": "python",
   "pygments_lexer": "ipython3",
   "version": "3.11.5"
  },
  "papermill": {
   "default_parameters": {},
   "duration": 323.75577,
   "end_time": "2024-05-23T20:55:05.172497",
   "environment_variables": {},
   "exception": null,
   "input_path": "__notebook__.ipynb",
   "output_path": "__notebook__.ipynb",
   "parameters": {},
   "start_time": "2024-05-23T20:49:41.416727",
   "version": "2.5.0"
  }
 },
 "nbformat": 4,
 "nbformat_minor": 5
}
